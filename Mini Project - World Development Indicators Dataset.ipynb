{
 "cells": [
  {
   "cell_type": "markdown",
   "metadata": {},
   "source": [
    "<br><p style=\"font-family: Arial; font-size:3.75em;color:purple; font-style:bold; text-align : center;\">\n",
    " Mini Project <br><br> </p> <p style=\"font-family: Arial; font-size:1.5em;color:purple; font-style:bold;\" >Does the rise of Mobile subscriptions tend to impact the GDP in emerging economies like Madagascar ? </p>"
   ]
  },
  {
   "cell_type": "markdown",
   "metadata": {},
   "source": [
    "<td><img src=\"http://zarzosa.me/wp-content/uploads/information-about-madagascar-tour-in-and-world-map.jpg\" align=\"middle\"/></td>\n",
    "<br>"
   ]
  },
  {
   "cell_type": "markdown",
   "metadata": {},
   "source": [
    "In this notebook, I will be using an open dataset from Kaggle. It is The **World Development Indicators** dataset obtained from the World Bank containing over a thousand annual indicators of economic development from hundreds of countries around the world. \n",
    "\n",
    "This is a slightly modified version of the original dataset from The World Bank."
   ]
  },
  {
   "cell_type": "code",
   "execution_count": 1,
   "metadata": {},
   "outputs": [],
   "source": [
    "import pandas as pd\n",
    "import numpy as np\n",
    "import random\n",
    "import matplotlib.pyplot as plt"
   ]
  },
  {
   "cell_type": "markdown",
   "metadata": {},
   "source": [
    "**Let's explore the dataset**"
   ]
  },
  {
   "cell_type": "code",
   "execution_count": 2,
   "metadata": {},
   "outputs": [
    {
     "data": {
      "text/html": [
       "<div>\n",
       "<style scoped>\n",
       "    .dataframe tbody tr th:only-of-type {\n",
       "        vertical-align: middle;\n",
       "    }\n",
       "\n",
       "    .dataframe tbody tr th {\n",
       "        vertical-align: top;\n",
       "    }\n",
       "\n",
       "    .dataframe thead th {\n",
       "        text-align: right;\n",
       "    }\n",
       "</style>\n",
       "<table border=\"1\" class=\"dataframe\">\n",
       "  <thead>\n",
       "    <tr style=\"text-align: right;\">\n",
       "      <th></th>\n",
       "      <th>CountryName</th>\n",
       "      <th>CountryCode</th>\n",
       "      <th>IndicatorName</th>\n",
       "      <th>IndicatorCode</th>\n",
       "      <th>Year</th>\n",
       "      <th>Value</th>\n",
       "    </tr>\n",
       "  </thead>\n",
       "  <tbody>\n",
       "    <tr>\n",
       "      <th>0</th>\n",
       "      <td>Arab World</td>\n",
       "      <td>ARB</td>\n",
       "      <td>Adolescent fertility rate (births per 1,000 wo...</td>\n",
       "      <td>SP.ADO.TFRT</td>\n",
       "      <td>1960</td>\n",
       "      <td>1.335609e+02</td>\n",
       "    </tr>\n",
       "    <tr>\n",
       "      <th>1</th>\n",
       "      <td>Arab World</td>\n",
       "      <td>ARB</td>\n",
       "      <td>Age dependency ratio (% of working-age populat...</td>\n",
       "      <td>SP.POP.DPND</td>\n",
       "      <td>1960</td>\n",
       "      <td>8.779760e+01</td>\n",
       "    </tr>\n",
       "    <tr>\n",
       "      <th>2</th>\n",
       "      <td>Arab World</td>\n",
       "      <td>ARB</td>\n",
       "      <td>Age dependency ratio, old (% of working-age po...</td>\n",
       "      <td>SP.POP.DPND.OL</td>\n",
       "      <td>1960</td>\n",
       "      <td>6.634579e+00</td>\n",
       "    </tr>\n",
       "    <tr>\n",
       "      <th>3</th>\n",
       "      <td>Arab World</td>\n",
       "      <td>ARB</td>\n",
       "      <td>Age dependency ratio, young (% of working-age ...</td>\n",
       "      <td>SP.POP.DPND.YG</td>\n",
       "      <td>1960</td>\n",
       "      <td>8.102333e+01</td>\n",
       "    </tr>\n",
       "    <tr>\n",
       "      <th>4</th>\n",
       "      <td>Arab World</td>\n",
       "      <td>ARB</td>\n",
       "      <td>Arms exports (SIPRI trend indicator values)</td>\n",
       "      <td>MS.MIL.XPRT.KD</td>\n",
       "      <td>1960</td>\n",
       "      <td>3.000000e+06</td>\n",
       "    </tr>\n",
       "  </tbody>\n",
       "</table>\n",
       "</div>"
      ],
      "text/plain": [
       "  CountryName CountryCode                                      IndicatorName  \\\n",
       "0  Arab World         ARB  Adolescent fertility rate (births per 1,000 wo...   \n",
       "1  Arab World         ARB  Age dependency ratio (% of working-age populat...   \n",
       "2  Arab World         ARB  Age dependency ratio, old (% of working-age po...   \n",
       "3  Arab World         ARB  Age dependency ratio, young (% of working-age ...   \n",
       "4  Arab World         ARB        Arms exports (SIPRI trend indicator values)   \n",
       "\n",
       "    IndicatorCode  Year         Value  \n",
       "0     SP.ADO.TFRT  1960  1.335609e+02  \n",
       "1     SP.POP.DPND  1960  8.779760e+01  \n",
       "2  SP.POP.DPND.OL  1960  6.634579e+00  \n",
       "3  SP.POP.DPND.YG  1960  8.102333e+01  \n",
       "4  MS.MIL.XPRT.KD  1960  3.000000e+06  "
      ]
     },
     "execution_count": 2,
     "metadata": {},
     "output_type": "execute_result"
    }
   ],
   "source": [
    "data = pd.read_csv('./Sources/world-development-indicators/Indicators.csv')\n",
    "data.head()"
   ]
  },
  {
   "cell_type": "code",
   "execution_count": 3,
   "metadata": {},
   "outputs": [
    {
     "name": "stdout",
     "output_type": "stream",
     "text": [
      "<class 'pandas.core.frame.DataFrame'>\n"
     ]
    },
    {
     "data": {
      "text/plain": [
       "(5656458, 6)"
      ]
     },
     "execution_count": 3,
     "metadata": {},
     "output_type": "execute_result"
    }
   ],
   "source": [
    "print(type(data))\n",
    "data.shape"
   ]
  },
  {
   "cell_type": "markdown",
   "metadata": {},
   "source": [
    "**Let's make an overview of the dataset to see if there is an interesting indicator **"
   ]
  },
  {
   "cell_type": "code",
   "execution_count": 105,
   "metadata": {},
   "outputs": [],
   "source": [
    "#data"
   ]
  },
  {
   "cell_type": "markdown",
   "metadata": {},
   "source": [
    "**How many indicators and country names are listed on the dataset ?**"
   ]
  },
  {
   "cell_type": "code",
   "execution_count": 5,
   "metadata": {},
   "outputs": [
    {
     "name": "stdout",
     "output_type": "stream",
     "text": [
      "There are 1344 indicators\n",
      "There are 247 countries\n"
     ]
    }
   ],
   "source": [
    "data_indicators = data['IndicatorName'].unique().tolist()\n",
    "data_countries = data['CountryName'].unique().tolist()\n",
    "\n",
    "print(\"There are\", len(data_indicators),\"indicators\")\n",
    "print(\"There are\", len(data_countries), \"countries\")"
   ]
  },
  {
   "cell_type": "code",
   "execution_count": 104,
   "metadata": {},
   "outputs": [],
   "source": [
    "#data_countries"
   ]
  },
  {
   "cell_type": "markdown",
   "metadata": {},
   "source": [
    "### Lets pick the country we want to explore : Madagascar"
   ]
  },
  {
   "cell_type": "code",
   "execution_count": 7,
   "metadata": {},
   "outputs": [
    {
     "data": {
      "text/html": [
       "<div>\n",
       "<style scoped>\n",
       "    .dataframe tbody tr th:only-of-type {\n",
       "        vertical-align: middle;\n",
       "    }\n",
       "\n",
       "    .dataframe tbody tr th {\n",
       "        vertical-align: top;\n",
       "    }\n",
       "\n",
       "    .dataframe thead th {\n",
       "        text-align: right;\n",
       "    }\n",
       "</style>\n",
       "<table border=\"1\" class=\"dataframe\">\n",
       "  <thead>\n",
       "    <tr style=\"text-align: right;\">\n",
       "      <th></th>\n",
       "      <th>CountryName</th>\n",
       "      <th>CountryCode</th>\n",
       "      <th>IndicatorName</th>\n",
       "      <th>IndicatorCode</th>\n",
       "      <th>Year</th>\n",
       "      <th>Value</th>\n",
       "    </tr>\n",
       "  </thead>\n",
       "  <tbody>\n",
       "    <tr>\n",
       "      <th>14351</th>\n",
       "      <td>Madagascar</td>\n",
       "      <td>MDG</td>\n",
       "      <td>Adolescent fertility rate (births per 1,000 wo...</td>\n",
       "      <td>SP.ADO.TFRT</td>\n",
       "      <td>1960</td>\n",
       "      <td>155.490000</td>\n",
       "    </tr>\n",
       "    <tr>\n",
       "      <th>14352</th>\n",
       "      <td>Madagascar</td>\n",
       "      <td>MDG</td>\n",
       "      <td>Age dependency ratio (% of working-age populat...</td>\n",
       "      <td>SP.POP.DPND</td>\n",
       "      <td>1960</td>\n",
       "      <td>85.018308</td>\n",
       "    </tr>\n",
       "    <tr>\n",
       "      <th>14353</th>\n",
       "      <td>Madagascar</td>\n",
       "      <td>MDG</td>\n",
       "      <td>Age dependency ratio, old (% of working-age po...</td>\n",
       "      <td>SP.POP.DPND.OL</td>\n",
       "      <td>1960</td>\n",
       "      <td>6.035425</td>\n",
       "    </tr>\n",
       "    <tr>\n",
       "      <th>14354</th>\n",
       "      <td>Madagascar</td>\n",
       "      <td>MDG</td>\n",
       "      <td>Age dependency ratio, young (% of working-age ...</td>\n",
       "      <td>SP.POP.DPND.YG</td>\n",
       "      <td>1960</td>\n",
       "      <td>78.982883</td>\n",
       "    </tr>\n",
       "    <tr>\n",
       "      <th>14355</th>\n",
       "      <td>Madagascar</td>\n",
       "      <td>MDG</td>\n",
       "      <td>Birth rate, crude (per 1,000 people)</td>\n",
       "      <td>SP.DYN.CBRT.IN</td>\n",
       "      <td>1960</td>\n",
       "      <td>48.703000</td>\n",
       "    </tr>\n",
       "  </tbody>\n",
       "</table>\n",
       "</div>"
      ],
      "text/plain": [
       "      CountryName CountryCode  \\\n",
       "14351  Madagascar         MDG   \n",
       "14352  Madagascar         MDG   \n",
       "14353  Madagascar         MDG   \n",
       "14354  Madagascar         MDG   \n",
       "14355  Madagascar         MDG   \n",
       "\n",
       "                                           IndicatorName   IndicatorCode  \\\n",
       "14351  Adolescent fertility rate (births per 1,000 wo...     SP.ADO.TFRT   \n",
       "14352  Age dependency ratio (% of working-age populat...     SP.POP.DPND   \n",
       "14353  Age dependency ratio, old (% of working-age po...  SP.POP.DPND.OL   \n",
       "14354  Age dependency ratio, young (% of working-age ...  SP.POP.DPND.YG   \n",
       "14355               Birth rate, crude (per 1,000 people)  SP.DYN.CBRT.IN   \n",
       "\n",
       "       Year       Value  \n",
       "14351  1960  155.490000  \n",
       "14352  1960   85.018308  \n",
       "14353  1960    6.035425  \n",
       "14354  1960   78.982883  \n",
       "14355  1960   48.703000  "
      ]
     },
     "execution_count": 7,
     "metadata": {},
     "output_type": "execute_result"
    }
   ],
   "source": [
    "filter_madagascar = data['CountryName']=='Madagascar'\n",
    "data_CountryName = data[filter_madagascar]\n",
    "data_CountryName.head()"
   ]
  },
  {
   "cell_type": "code",
   "execution_count": 8,
   "metadata": {},
   "outputs": [],
   "source": [
    "filter_mdg = data['CountryCode']=='MDG'\n",
    "data_country_code = data[filter_mdg]"
   ]
  },
  {
   "cell_type": "code",
   "execution_count": 9,
   "metadata": {},
   "outputs": [
    {
     "name": "stdout",
     "output_type": "stream",
     "text": [
      "32637\n",
      "32637\n"
     ]
    }
   ],
   "source": [
    "print(len(data_country_code))\n",
    "print(len(data_CountryName))"
   ]
  },
  {
   "cell_type": "markdown",
   "metadata": {},
   "source": [
    "I can see that the **CountryCode** 'MDG' appears as many times as the **CountryName** 'Madagascar'"
   ]
  },
  {
   "cell_type": "markdown",
   "metadata": {},
   "source": [
    "### Lets pick the indicator to explore in Madagascar : Mobile cellular subscriptions (per 100 people) \n",
    "\n",
    "Mobile cellular telephone subscriptions are subscriptions to a public mobile telephone service that provide access to the PSTN using cellular technology. The indicator includes (and is split into) the number of postpaid subscriptions, and the number of active prepaid accounts (i.e. that have been used during the last three months). The indicator applies to all mobile cellular subscriptions that offer voice communications. It excludes subscriptions via data cards or USB modems, subscriptions to public mobile data services, private trunked mobile radio, telepoint, radio paging and telemetry services.\n",
    "\n",
    "*Source: International Telecommunication Union, World Telecommunication/ICT Development Report and database.*"
   ]
  },
  {
   "cell_type": "code",
   "execution_count": 22,
   "metadata": {},
   "outputs": [
    {
     "data": {
      "text/html": [
       "<div>\n",
       "<style scoped>\n",
       "    .dataframe tbody tr th:only-of-type {\n",
       "        vertical-align: middle;\n",
       "    }\n",
       "\n",
       "    .dataframe tbody tr th {\n",
       "        vertical-align: top;\n",
       "    }\n",
       "\n",
       "    .dataframe thead th {\n",
       "        text-align: right;\n",
       "    }\n",
       "</style>\n",
       "<table border=\"1\" class=\"dataframe\">\n",
       "  <thead>\n",
       "    <tr style=\"text-align: right;\">\n",
       "      <th></th>\n",
       "      <th>CountryName</th>\n",
       "      <th>CountryCode</th>\n",
       "      <th>IndicatorName</th>\n",
       "      <th>IndicatorCode</th>\n",
       "      <th>Year</th>\n",
       "      <th>Value</th>\n",
       "    </tr>\n",
       "  </thead>\n",
       "  <tbody>\n",
       "    <tr>\n",
       "      <th>14474</th>\n",
       "      <td>Madagascar</td>\n",
       "      <td>MDG</td>\n",
       "      <td>Mobile cellular subscriptions (per 100 people)</td>\n",
       "      <td>IT.CEL.SETS.P2</td>\n",
       "      <td>1960</td>\n",
       "      <td>0.000000</td>\n",
       "    </tr>\n",
       "    <tr>\n",
       "      <th>155913</th>\n",
       "      <td>Madagascar</td>\n",
       "      <td>MDG</td>\n",
       "      <td>Mobile cellular subscriptions (per 100 people)</td>\n",
       "      <td>IT.CEL.SETS.P2</td>\n",
       "      <td>1965</td>\n",
       "      <td>0.000000</td>\n",
       "    </tr>\n",
       "    <tr>\n",
       "      <th>336051</th>\n",
       "      <td>Madagascar</td>\n",
       "      <td>MDG</td>\n",
       "      <td>Mobile cellular subscriptions (per 100 people)</td>\n",
       "      <td>IT.CEL.SETS.P2</td>\n",
       "      <td>1970</td>\n",
       "      <td>0.000000</td>\n",
       "    </tr>\n",
       "    <tr>\n",
       "      <th>682417</th>\n",
       "      <td>Madagascar</td>\n",
       "      <td>MDG</td>\n",
       "      <td>Mobile cellular subscriptions (per 100 people)</td>\n",
       "      <td>IT.CEL.SETS.P2</td>\n",
       "      <td>1975</td>\n",
       "      <td>0.000000</td>\n",
       "    </tr>\n",
       "    <tr>\n",
       "      <th>755373</th>\n",
       "      <td>Madagascar</td>\n",
       "      <td>MDG</td>\n",
       "      <td>Mobile cellular subscriptions (per 100 people)</td>\n",
       "      <td>IT.CEL.SETS.P2</td>\n",
       "      <td>1976</td>\n",
       "      <td>0.000000</td>\n",
       "    </tr>\n",
       "    <tr>\n",
       "      <th>830111</th>\n",
       "      <td>Madagascar</td>\n",
       "      <td>MDG</td>\n",
       "      <td>Mobile cellular subscriptions (per 100 people)</td>\n",
       "      <td>IT.CEL.SETS.P2</td>\n",
       "      <td>1977</td>\n",
       "      <td>0.000000</td>\n",
       "    </tr>\n",
       "    <tr>\n",
       "      <th>905488</th>\n",
       "      <td>Madagascar</td>\n",
       "      <td>MDG</td>\n",
       "      <td>Mobile cellular subscriptions (per 100 people)</td>\n",
       "      <td>IT.CEL.SETS.P2</td>\n",
       "      <td>1978</td>\n",
       "      <td>0.000000</td>\n",
       "    </tr>\n",
       "    <tr>\n",
       "      <th>981351</th>\n",
       "      <td>Madagascar</td>\n",
       "      <td>MDG</td>\n",
       "      <td>Mobile cellular subscriptions (per 100 people)</td>\n",
       "      <td>IT.CEL.SETS.P2</td>\n",
       "      <td>1979</td>\n",
       "      <td>0.000000</td>\n",
       "    </tr>\n",
       "    <tr>\n",
       "      <th>1060554</th>\n",
       "      <td>Madagascar</td>\n",
       "      <td>MDG</td>\n",
       "      <td>Mobile cellular subscriptions (per 100 people)</td>\n",
       "      <td>IT.CEL.SETS.P2</td>\n",
       "      <td>1980</td>\n",
       "      <td>0.000000</td>\n",
       "    </tr>\n",
       "    <tr>\n",
       "      <th>1143739</th>\n",
       "      <td>Madagascar</td>\n",
       "      <td>MDG</td>\n",
       "      <td>Mobile cellular subscriptions (per 100 people)</td>\n",
       "      <td>IT.CEL.SETS.P2</td>\n",
       "      <td>1981</td>\n",
       "      <td>0.000000</td>\n",
       "    </tr>\n",
       "    <tr>\n",
       "      <th>1228485</th>\n",
       "      <td>Madagascar</td>\n",
       "      <td>MDG</td>\n",
       "      <td>Mobile cellular subscriptions (per 100 people)</td>\n",
       "      <td>IT.CEL.SETS.P2</td>\n",
       "      <td>1982</td>\n",
       "      <td>0.000000</td>\n",
       "    </tr>\n",
       "    <tr>\n",
       "      <th>1313875</th>\n",
       "      <td>Madagascar</td>\n",
       "      <td>MDG</td>\n",
       "      <td>Mobile cellular subscriptions (per 100 people)</td>\n",
       "      <td>IT.CEL.SETS.P2</td>\n",
       "      <td>1983</td>\n",
       "      <td>0.000000</td>\n",
       "    </tr>\n",
       "    <tr>\n",
       "      <th>1399517</th>\n",
       "      <td>Madagascar</td>\n",
       "      <td>MDG</td>\n",
       "      <td>Mobile cellular subscriptions (per 100 people)</td>\n",
       "      <td>IT.CEL.SETS.P2</td>\n",
       "      <td>1984</td>\n",
       "      <td>0.000000</td>\n",
       "    </tr>\n",
       "    <tr>\n",
       "      <th>1486178</th>\n",
       "      <td>Madagascar</td>\n",
       "      <td>MDG</td>\n",
       "      <td>Mobile cellular subscriptions (per 100 people)</td>\n",
       "      <td>IT.CEL.SETS.P2</td>\n",
       "      <td>1985</td>\n",
       "      <td>0.000000</td>\n",
       "    </tr>\n",
       "    <tr>\n",
       "      <th>1574014</th>\n",
       "      <td>Madagascar</td>\n",
       "      <td>MDG</td>\n",
       "      <td>Mobile cellular subscriptions (per 100 people)</td>\n",
       "      <td>IT.CEL.SETS.P2</td>\n",
       "      <td>1986</td>\n",
       "      <td>0.000000</td>\n",
       "    </tr>\n",
       "    <tr>\n",
       "      <th>1662762</th>\n",
       "      <td>Madagascar</td>\n",
       "      <td>MDG</td>\n",
       "      <td>Mobile cellular subscriptions (per 100 people)</td>\n",
       "      <td>IT.CEL.SETS.P2</td>\n",
       "      <td>1987</td>\n",
       "      <td>0.000000</td>\n",
       "    </tr>\n",
       "    <tr>\n",
       "      <th>1752066</th>\n",
       "      <td>Madagascar</td>\n",
       "      <td>MDG</td>\n",
       "      <td>Mobile cellular subscriptions (per 100 people)</td>\n",
       "      <td>IT.CEL.SETS.P2</td>\n",
       "      <td>1988</td>\n",
       "      <td>0.000000</td>\n",
       "    </tr>\n",
       "    <tr>\n",
       "      <th>1843443</th>\n",
       "      <td>Madagascar</td>\n",
       "      <td>MDG</td>\n",
       "      <td>Mobile cellular subscriptions (per 100 people)</td>\n",
       "      <td>IT.CEL.SETS.P2</td>\n",
       "      <td>1989</td>\n",
       "      <td>0.000000</td>\n",
       "    </tr>\n",
       "    <tr>\n",
       "      <th>1950873</th>\n",
       "      <td>Madagascar</td>\n",
       "      <td>MDG</td>\n",
       "      <td>Mobile cellular subscriptions (per 100 people)</td>\n",
       "      <td>IT.CEL.SETS.P2</td>\n",
       "      <td>1990</td>\n",
       "      <td>0.000000</td>\n",
       "    </tr>\n",
       "    <tr>\n",
       "      <th>2067527</th>\n",
       "      <td>Madagascar</td>\n",
       "      <td>MDG</td>\n",
       "      <td>Mobile cellular subscriptions (per 100 people)</td>\n",
       "      <td>IT.CEL.SETS.P2</td>\n",
       "      <td>1991</td>\n",
       "      <td>0.000000</td>\n",
       "    </tr>\n",
       "    <tr>\n",
       "      <th>2186841</th>\n",
       "      <td>Madagascar</td>\n",
       "      <td>MDG</td>\n",
       "      <td>Mobile cellular subscriptions (per 100 people)</td>\n",
       "      <td>IT.CEL.SETS.P2</td>\n",
       "      <td>1992</td>\n",
       "      <td>0.000000</td>\n",
       "    </tr>\n",
       "    <tr>\n",
       "      <th>2310223</th>\n",
       "      <td>Madagascar</td>\n",
       "      <td>MDG</td>\n",
       "      <td>Mobile cellular subscriptions (per 100 people)</td>\n",
       "      <td>IT.CEL.SETS.P2</td>\n",
       "      <td>1993</td>\n",
       "      <td>0.000000</td>\n",
       "    </tr>\n",
       "    <tr>\n",
       "      <th>2435249</th>\n",
       "      <td>Madagascar</td>\n",
       "      <td>MDG</td>\n",
       "      <td>Mobile cellular subscriptions (per 100 people)</td>\n",
       "      <td>IT.CEL.SETS.P2</td>\n",
       "      <td>1994</td>\n",
       "      <td>0.002301</td>\n",
       "    </tr>\n",
       "    <tr>\n",
       "      <th>2566411</th>\n",
       "      <td>Madagascar</td>\n",
       "      <td>MDG</td>\n",
       "      <td>Mobile cellular subscriptions (per 100 people)</td>\n",
       "      <td>IT.CEL.SETS.P2</td>\n",
       "      <td>1995</td>\n",
       "      <td>0.009664</td>\n",
       "    </tr>\n",
       "    <tr>\n",
       "      <th>2701696</th>\n",
       "      <td>Madagascar</td>\n",
       "      <td>MDG</td>\n",
       "      <td>Mobile cellular subscriptions (per 100 people)</td>\n",
       "      <td>IT.CEL.SETS.P2</td>\n",
       "      <td>1996</td>\n",
       "      <td>0.016567</td>\n",
       "    </tr>\n",
       "  </tbody>\n",
       "</table>\n",
       "</div>"
      ],
      "text/plain": [
       "        CountryName CountryCode  \\\n",
       "14474    Madagascar         MDG   \n",
       "155913   Madagascar         MDG   \n",
       "336051   Madagascar         MDG   \n",
       "682417   Madagascar         MDG   \n",
       "755373   Madagascar         MDG   \n",
       "830111   Madagascar         MDG   \n",
       "905488   Madagascar         MDG   \n",
       "981351   Madagascar         MDG   \n",
       "1060554  Madagascar         MDG   \n",
       "1143739  Madagascar         MDG   \n",
       "1228485  Madagascar         MDG   \n",
       "1313875  Madagascar         MDG   \n",
       "1399517  Madagascar         MDG   \n",
       "1486178  Madagascar         MDG   \n",
       "1574014  Madagascar         MDG   \n",
       "1662762  Madagascar         MDG   \n",
       "1752066  Madagascar         MDG   \n",
       "1843443  Madagascar         MDG   \n",
       "1950873  Madagascar         MDG   \n",
       "2067527  Madagascar         MDG   \n",
       "2186841  Madagascar         MDG   \n",
       "2310223  Madagascar         MDG   \n",
       "2435249  Madagascar         MDG   \n",
       "2566411  Madagascar         MDG   \n",
       "2701696  Madagascar         MDG   \n",
       "\n",
       "                                          IndicatorName   IndicatorCode  Year  \\\n",
       "14474    Mobile cellular subscriptions (per 100 people)  IT.CEL.SETS.P2  1960   \n",
       "155913   Mobile cellular subscriptions (per 100 people)  IT.CEL.SETS.P2  1965   \n",
       "336051   Mobile cellular subscriptions (per 100 people)  IT.CEL.SETS.P2  1970   \n",
       "682417   Mobile cellular subscriptions (per 100 people)  IT.CEL.SETS.P2  1975   \n",
       "755373   Mobile cellular subscriptions (per 100 people)  IT.CEL.SETS.P2  1976   \n",
       "830111   Mobile cellular subscriptions (per 100 people)  IT.CEL.SETS.P2  1977   \n",
       "905488   Mobile cellular subscriptions (per 100 people)  IT.CEL.SETS.P2  1978   \n",
       "981351   Mobile cellular subscriptions (per 100 people)  IT.CEL.SETS.P2  1979   \n",
       "1060554  Mobile cellular subscriptions (per 100 people)  IT.CEL.SETS.P2  1980   \n",
       "1143739  Mobile cellular subscriptions (per 100 people)  IT.CEL.SETS.P2  1981   \n",
       "1228485  Mobile cellular subscriptions (per 100 people)  IT.CEL.SETS.P2  1982   \n",
       "1313875  Mobile cellular subscriptions (per 100 people)  IT.CEL.SETS.P2  1983   \n",
       "1399517  Mobile cellular subscriptions (per 100 people)  IT.CEL.SETS.P2  1984   \n",
       "1486178  Mobile cellular subscriptions (per 100 people)  IT.CEL.SETS.P2  1985   \n",
       "1574014  Mobile cellular subscriptions (per 100 people)  IT.CEL.SETS.P2  1986   \n",
       "1662762  Mobile cellular subscriptions (per 100 people)  IT.CEL.SETS.P2  1987   \n",
       "1752066  Mobile cellular subscriptions (per 100 people)  IT.CEL.SETS.P2  1988   \n",
       "1843443  Mobile cellular subscriptions (per 100 people)  IT.CEL.SETS.P2  1989   \n",
       "1950873  Mobile cellular subscriptions (per 100 people)  IT.CEL.SETS.P2  1990   \n",
       "2067527  Mobile cellular subscriptions (per 100 people)  IT.CEL.SETS.P2  1991   \n",
       "2186841  Mobile cellular subscriptions (per 100 people)  IT.CEL.SETS.P2  1992   \n",
       "2310223  Mobile cellular subscriptions (per 100 people)  IT.CEL.SETS.P2  1993   \n",
       "2435249  Mobile cellular subscriptions (per 100 people)  IT.CEL.SETS.P2  1994   \n",
       "2566411  Mobile cellular subscriptions (per 100 people)  IT.CEL.SETS.P2  1995   \n",
       "2701696  Mobile cellular subscriptions (per 100 people)  IT.CEL.SETS.P2  1996   \n",
       "\n",
       "            Value  \n",
       "14474    0.000000  \n",
       "155913   0.000000  \n",
       "336051   0.000000  \n",
       "682417   0.000000  \n",
       "755373   0.000000  \n",
       "830111   0.000000  \n",
       "905488   0.000000  \n",
       "981351   0.000000  \n",
       "1060554  0.000000  \n",
       "1143739  0.000000  \n",
       "1228485  0.000000  \n",
       "1313875  0.000000  \n",
       "1399517  0.000000  \n",
       "1486178  0.000000  \n",
       "1574014  0.000000  \n",
       "1662762  0.000000  \n",
       "1752066  0.000000  \n",
       "1843443  0.000000  \n",
       "1950873  0.000000  \n",
       "2067527  0.000000  \n",
       "2186841  0.000000  \n",
       "2310223  0.000000  \n",
       "2435249  0.002301  \n",
       "2566411  0.009664  \n",
       "2701696  0.016567  "
      ]
     },
     "execution_count": 22,
     "metadata": {},
     "output_type": "execute_result"
    }
   ],
   "source": [
    "# select Mobile cellular subscriptions\n",
    "filter_indicator_mobile = data['IndicatorName'].str.contains('Mobile cellular subscriptions \\(per 100 people')\n",
    "\n",
    "# data_mobile_mdg is just those indicators matching Madagascar for country code and  Mobile cellular subscriptions over time.\n",
    "data_mobile_mdg = data[filter_madagascar & filter_indicator_mobile]\n",
    "data_mobile_mdg.head(25)"
   ]
  },
  {
   "cell_type": "markdown",
   "metadata": {},
   "source": [
    "I can see that the value is equal to zero before 1994 ! "
   ]
  },
  {
   "cell_type": "code",
   "execution_count": 11,
   "metadata": {},
   "outputs": [
    {
     "data": {
      "text/plain": [
       "43"
      ]
     },
     "execution_count": 11,
     "metadata": {},
     "output_type": "execute_result"
    }
   ],
   "source": [
    "len(data_mobile_mdg)"
   ]
  },
  {
   "cell_type": "code",
   "execution_count": 12,
   "metadata": {},
   "outputs": [
    {
     "name": "stdout",
     "output_type": "stream",
     "text": [
      "Value is between 0.0  to  40.042430130559\n"
     ]
    }
   ],
   "source": [
    "#What is the value's range ?\n",
    "print(\"Value is between\",min(data_mobile_mdg['Value'].tolist()),\" to \",max(data_mobile_mdg['Value'].tolist()))"
   ]
  },
  {
   "cell_type": "code",
   "execution_count": 13,
   "metadata": {},
   "outputs": [
    {
     "name": "stdout",
     "output_type": "stream",
     "text": [
      "Year is between 1960  to  2014\n"
     ]
    }
   ],
   "source": [
    "#How many years of data do we have ?\n",
    "print(\"Year is between\",min(data_mobile_mdg['Year'].tolist()),\" to \",max(data_mobile_mdg['Year'].tolist()))"
   ]
  },
  {
   "cell_type": "markdown",
   "metadata": {},
   "source": [
    "### Let's see how Mobile cellular subscriptions have changed over time in Madagascar"
   ]
  },
  {
   "cell_type": "code",
   "execution_count": 14,
   "metadata": {},
   "outputs": [],
   "source": [
    "# get the years\n",
    "years = data_mobile_mdg['Year'].values\n",
    "\n",
    "# get the values \n",
    "mobile_sub = data_mobile_mdg['Value'].values"
   ]
  },
  {
   "cell_type": "code",
   "execution_count": 15,
   "metadata": {},
   "outputs": [
    {
     "data": {
      "image/png": "[encoded data removed]",
      "text/plain": [
       "<Figure size 720x360 with 1 Axes>"
      ]
     },
     "metadata": {},
     "output_type": "display_data"
    }
   ],
   "source": [
    "# Label the axes\n",
    "plt.figure(figsize=(10,5))\n",
    "plt.xlabel('Year')\n",
    "plt.ylabel(data_mobile_mdg['IndicatorName'].iloc[0])\n",
    "\n",
    "#label the figure\n",
    "plt.title('Mobile cellular subscriptions in Madagascar')\n",
    "\n",
    "# create\n",
    "plt.bar(years,mobile_sub)\n",
    "plt.grid(True)\n",
    "plt.show()"
   ]
  },
  {
   "cell_type": "markdown",
   "metadata": {},
   "source": [
    "I can see that Mobile cellular subscriptions increase strongly around 2004, dropped in 2013 and try to recover again !!\n",
    "\n",
    "Let's plot it differently"
   ]
  },
  {
   "cell_type": "code",
   "execution_count": 16,
   "metadata": {},
   "outputs": [
    {
     "data": {
      "image/png": "[encoded data removed]",
      "text/plain": [
       "<Figure size 720x360 with 1 Axes>"
      ]
     },
     "metadata": {},
     "output_type": "display_data"
    }
   ],
   "source": [
    "# Label the axes\n",
    "plt.figure(figsize=(10,5))\n",
    "plt.xlabel('Year')\n",
    "plt.ylabel(data_mobile_mdg['IndicatorName'].iloc[0])\n",
    "\n",
    "#label the figure\n",
    "plt.title('Mobile cellular subscriptions in Madagascar')\n",
    "\n",
    "# switch to a line plot\n",
    "plt.plot(years,mobile_sub)\n",
    "plt.show()"
   ]
  },
  {
   "cell_type": "markdown",
   "metadata": {},
   "source": [
    "Let's use Histograms to explore the distribution of values"
   ]
  },
  {
   "cell_type": "code",
   "execution_count": 26,
   "metadata": {},
   "outputs": [
    {
     "data": {
      "text/html": [
       "<div>\n",
       "<style scoped>\n",
       "    .dataframe tbody tr th:only-of-type {\n",
       "        vertical-align: middle;\n",
       "    }\n",
       "\n",
       "    .dataframe tbody tr th {\n",
       "        vertical-align: top;\n",
       "    }\n",
       "\n",
       "    .dataframe thead th {\n",
       "        text-align: right;\n",
       "    }\n",
       "</style>\n",
       "<table border=\"1\" class=\"dataframe\">\n",
       "  <thead>\n",
       "    <tr style=\"text-align: right;\">\n",
       "      <th></th>\n",
       "      <th>CountryName</th>\n",
       "      <th>CountryCode</th>\n",
       "      <th>IndicatorName</th>\n",
       "      <th>IndicatorCode</th>\n",
       "      <th>Year</th>\n",
       "      <th>Value</th>\n",
       "    </tr>\n",
       "  </thead>\n",
       "  <tbody>\n",
       "    <tr>\n",
       "      <th>2435249</th>\n",
       "      <td>Madagascar</td>\n",
       "      <td>MDG</td>\n",
       "      <td>Mobile cellular subscriptions (per 100 people)</td>\n",
       "      <td>IT.CEL.SETS.P2</td>\n",
       "      <td>1994</td>\n",
       "      <td>0.002301</td>\n",
       "    </tr>\n",
       "    <tr>\n",
       "      <th>2566411</th>\n",
       "      <td>Madagascar</td>\n",
       "      <td>MDG</td>\n",
       "      <td>Mobile cellular subscriptions (per 100 people)</td>\n",
       "      <td>IT.CEL.SETS.P2</td>\n",
       "      <td>1995</td>\n",
       "      <td>0.009664</td>\n",
       "    </tr>\n",
       "    <tr>\n",
       "      <th>2701696</th>\n",
       "      <td>Madagascar</td>\n",
       "      <td>MDG</td>\n",
       "      <td>Mobile cellular subscriptions (per 100 people)</td>\n",
       "      <td>IT.CEL.SETS.P2</td>\n",
       "      <td>1996</td>\n",
       "      <td>0.016567</td>\n",
       "    </tr>\n",
       "    <tr>\n",
       "      <th>2837339</th>\n",
       "      <td>Madagascar</td>\n",
       "      <td>MDG</td>\n",
       "      <td>Mobile cellular subscriptions (per 100 people)</td>\n",
       "      <td>IT.CEL.SETS.P2</td>\n",
       "      <td>1997</td>\n",
       "      <td>0.028613</td>\n",
       "    </tr>\n",
       "    <tr>\n",
       "      <th>2974241</th>\n",
       "      <td>Madagascar</td>\n",
       "      <td>MDG</td>\n",
       "      <td>Mobile cellular subscriptions (per 100 people)</td>\n",
       "      <td>IT.CEL.SETS.P2</td>\n",
       "      <td>1998</td>\n",
       "      <td>0.086435</td>\n",
       "    </tr>\n",
       "  </tbody>\n",
       "</table>\n",
       "</div>"
      ],
      "text/plain": [
       "        CountryName CountryCode  \\\n",
       "2435249  Madagascar         MDG   \n",
       "2566411  Madagascar         MDG   \n",
       "2701696  Madagascar         MDG   \n",
       "2837339  Madagascar         MDG   \n",
       "2974241  Madagascar         MDG   \n",
       "\n",
       "                                          IndicatorName   IndicatorCode  Year  \\\n",
       "2435249  Mobile cellular subscriptions (per 100 people)  IT.CEL.SETS.P2  1994   \n",
       "2566411  Mobile cellular subscriptions (per 100 people)  IT.CEL.SETS.P2  1995   \n",
       "2701696  Mobile cellular subscriptions (per 100 people)  IT.CEL.SETS.P2  1996   \n",
       "2837339  Mobile cellular subscriptions (per 100 people)  IT.CEL.SETS.P2  1997   \n",
       "2974241  Mobile cellular subscriptions (per 100 people)  IT.CEL.SETS.P2  1998   \n",
       "\n",
       "            Value  \n",
       "2435249  0.002301  \n",
       "2566411  0.009664  \n",
       "2701696  0.016567  \n",
       "2837339  0.028613  \n",
       "2974241  0.086435  "
      ]
     },
     "execution_count": 26,
     "metadata": {},
     "output_type": "execute_result"
    }
   ],
   "source": [
    "# to make it more honest, let's start the x axis at 1994\n",
    "data_mobile_mdg_from1994 = data_mobile_mdg[data_mobile_mdg['Year']>1993]\n",
    "data_mobile_mdg_from1994.head()"
   ]
  },
  {
   "cell_type": "code",
   "execution_count": 27,
   "metadata": {},
   "outputs": [],
   "source": [
    "value_mobile_sub_from1994 = data_mobile_mdg_from1994['Value'].values"
   ]
  },
  {
   "cell_type": "code",
   "execution_count": 29,
   "metadata": {},
   "outputs": [
    {
     "name": "stderr",
     "output_type": "stream",
     "text": [
      "C:\\Users\\jrambelo\\AppData\\Local\\Continuum\\anaconda3\\lib\\site-packages\\matplotlib\\axes\\_axes.py:6462: UserWarning: The 'normed' kwarg is deprecated, and has been replaced by the 'density' kwarg.\n",
      "  warnings.warn(\"The 'normed' kwarg is deprecated, and has been \"\n"
     ]
    },
    {
     "data": {
      "image/png": "[encoded data removed]",
      "text/plain": [
       "<Figure size 720x360 with 1 Axes>"
      ]
     },
     "metadata": {},
     "output_type": "display_data"
    }
   ],
   "source": [
    "# Label the axes\n",
    "plt.figure(figsize=(10,5))\n",
    "plt.xlabel(data_mobile_mdg['IndicatorName'].iloc[0])\n",
    "plt.ylabel('# of Years')\n",
    "\n",
    "#label the figure\n",
    "plt.title('Mobile cellular subscriptions in Madagascar (1994 - 2015)')\n",
    "\n",
    "plt.hist(value_mobile_sub_from1994, 50, normed=False, facecolor='green')\n",
    "plt.grid(True)\n",
    "plt.show()"
   ]
  },
  {
   "cell_type": "markdown",
   "metadata": {},
   "source": [
    "I can see that Madagascar took so many years to pass the milestone of 5 cellular subscriptions per 100 persons."
   ]
  },
  {
   "cell_type": "markdown",
   "metadata": {},
   "source": [
    "### But how do Madagascar's cellular subscriptions relate to those of other countries?\n",
    "\n",
    "Let's pick the year 2014 and see how the other countries perform\n",
    "\n",
    "**Note : ** Madagascar made ~ 38.2 cellular subscriptions per 100 persons in 2014"
   ]
  },
  {
   "cell_type": "code",
   "execution_count": 30,
   "metadata": {},
   "outputs": [
    {
     "data": {
      "text/html": [
       "<div>\n",
       "<style scoped>\n",
       "    .dataframe tbody tr th:only-of-type {\n",
       "        vertical-align: middle;\n",
       "    }\n",
       "\n",
       "    .dataframe tbody tr th {\n",
       "        vertical-align: top;\n",
       "    }\n",
       "\n",
       "    .dataframe thead th {\n",
       "        text-align: right;\n",
       "    }\n",
       "</style>\n",
       "<table border=\"1\" class=\"dataframe\">\n",
       "  <thead>\n",
       "    <tr style=\"text-align: right;\">\n",
       "      <th></th>\n",
       "      <th>CountryName</th>\n",
       "      <th>CountryCode</th>\n",
       "      <th>IndicatorName</th>\n",
       "      <th>IndicatorCode</th>\n",
       "      <th>Year</th>\n",
       "      <th>Value</th>\n",
       "    </tr>\n",
       "  </thead>\n",
       "  <tbody>\n",
       "    <tr>\n",
       "      <th>5534480</th>\n",
       "      <td>Arab World</td>\n",
       "      <td>ARB</td>\n",
       "      <td>Mobile cellular subscriptions (per 100 people)</td>\n",
       "      <td>IT.CEL.SETS.P2</td>\n",
       "      <td>2014</td>\n",
       "      <td>109.152264</td>\n",
       "    </tr>\n",
       "    <tr>\n",
       "      <th>5534724</th>\n",
       "      <td>Caribbean small states</td>\n",
       "      <td>CSS</td>\n",
       "      <td>Mobile cellular subscriptions (per 100 people)</td>\n",
       "      <td>IT.CEL.SETS.P2</td>\n",
       "      <td>2014</td>\n",
       "      <td>109.925139</td>\n",
       "    </tr>\n",
       "    <tr>\n",
       "      <th>5535039</th>\n",
       "      <td>Central Europe and the Baltics</td>\n",
       "      <td>CEB</td>\n",
       "      <td>Mobile cellular subscriptions (per 100 people)</td>\n",
       "      <td>IT.CEL.SETS.P2</td>\n",
       "      <td>2014</td>\n",
       "      <td>132.719245</td>\n",
       "    </tr>\n",
       "    <tr>\n",
       "      <th>5535331</th>\n",
       "      <td>East Asia &amp; Pacific (all income levels)</td>\n",
       "      <td>EAS</td>\n",
       "      <td>Mobile cellular subscriptions (per 100 people)</td>\n",
       "      <td>IT.CEL.SETS.P2</td>\n",
       "      <td>2014</td>\n",
       "      <td>103.170723</td>\n",
       "    </tr>\n",
       "    <tr>\n",
       "      <th>5535691</th>\n",
       "      <td>East Asia &amp; Pacific (developing only)</td>\n",
       "      <td>EAP</td>\n",
       "      <td>Mobile cellular subscriptions (per 100 people)</td>\n",
       "      <td>IT.CEL.SETS.P2</td>\n",
       "      <td>2014</td>\n",
       "      <td>100.476563</td>\n",
       "    </tr>\n",
       "  </tbody>\n",
       "</table>\n",
       "</div>"
      ],
      "text/plain": [
       "                                     CountryName CountryCode  \\\n",
       "5534480                               Arab World         ARB   \n",
       "5534724                   Caribbean small states         CSS   \n",
       "5535039           Central Europe and the Baltics         CEB   \n",
       "5535331  East Asia & Pacific (all income levels)         EAS   \n",
       "5535691    East Asia & Pacific (developing only)         EAP   \n",
       "\n",
       "                                          IndicatorName   IndicatorCode  Year  \\\n",
       "5534480  Mobile cellular subscriptions (per 100 people)  IT.CEL.SETS.P2  2014   \n",
       "5534724  Mobile cellular subscriptions (per 100 people)  IT.CEL.SETS.P2  2014   \n",
       "5535039  Mobile cellular subscriptions (per 100 people)  IT.CEL.SETS.P2  2014   \n",
       "5535331  Mobile cellular subscriptions (per 100 people)  IT.CEL.SETS.P2  2014   \n",
       "5535691  Mobile cellular subscriptions (per 100 people)  IT.CEL.SETS.P2  2014   \n",
       "\n",
       "              Value  \n",
       "5534480  109.152264  \n",
       "5534724  109.925139  \n",
       "5535039  132.719245  \n",
       "5535331  103.170723  \n",
       "5535691  100.476563  "
      ]
     },
     "execution_count": 30,
     "metadata": {},
     "output_type": "execute_result"
    }
   ],
   "source": [
    "year_2014 = data['Year'].isin([2014])\n",
    "mobile_sub_2014_global = data[year_2014 & filter_indicator_mobile]\n",
    "mobile_sub_2014_global.head()"
   ]
  },
  {
   "cell_type": "code",
   "execution_count": 31,
   "metadata": {},
   "outputs": [
    {
     "data": {
      "text/plain": [
       "236"
      ]
     },
     "execution_count": 31,
     "metadata": {},
     "output_type": "execute_result"
    }
   ],
   "source": [
    "len(mobile_sub_2014_global)"
   ]
  },
  {
   "cell_type": "code",
   "execution_count": 32,
   "metadata": {},
   "outputs": [
    {
     "name": "stderr",
     "output_type": "stream",
     "text": [
      "C:\\Users\\jrambelo\\AppData\\Local\\Continuum\\anaconda3\\lib\\site-packages\\matplotlib\\axes\\_axes.py:6462: UserWarning: The 'normed' kwarg is deprecated, and has been replaced by the 'density' kwarg.\n",
      "  warnings.warn(\"The 'normed' kwarg is deprecated, and has been \"\n"
     ]
    },
    {
     "data": {
      "image/png": "[encoded data removed]",
      "text/plain": [
       "<Figure size 720x360 with 1 Axes>"
      ]
     },
     "metadata": {},
     "output_type": "display_data"
    }
   ],
   "source": [
    "fig, ax = plt.subplots(figsize=(10,5))\n",
    "\n",
    "ax.annotate(\"Madagascar\",\n",
    "            xy=(38, 5), xycoords='data',\n",
    "            xytext=(70, 12), textcoords='data',\n",
    "            arrowprops=dict(arrowstyle=\"->\",\n",
    "                            connectionstyle=\"arc3\"),\n",
    "            )\n",
    "\n",
    "plt.xlabel(mobile_sub_2014_global['IndicatorName'].iloc[0])\n",
    "plt.ylabel('# of Countries')\n",
    "plt.title('Histogram of cellular subscriptions in the world in 2014')\n",
    "\n",
    "\n",
    "plt.hist(mobile_sub_2014_global['Value'], 30, normed=False, facecolor='green')\n",
    "plt.grid(True)\n",
    "plt.show()"
   ]
  },
  {
   "cell_type": "markdown",
   "metadata": {},
   "source": [
    "~38.2 of mobile cellular subscriptions is quite low among all countries !!\n",
    "Let's compare it to all developping countries "
   ]
  },
  {
   "cell_type": "markdown",
   "metadata": {},
   "source": [
    "### How this relates to other developping countries ?### "
   ]
  },
  {
   "cell_type": "markdown",
   "metadata": {},
   "source": [
    "First, let's select all the rows that matches our criteria :\n",
    "* CountryName : All the developing areas\n",
    "* IndicatorName : Mobile cellular subscriptions"
   ]
  },
  {
   "cell_type": "code",
   "execution_count": 35,
   "metadata": {},
   "outputs": [
    {
     "data": {
      "text/html": [
       "<div>\n",
       "<style scoped>\n",
       "    .dataframe tbody tr th:only-of-type {\n",
       "        vertical-align: middle;\n",
       "    }\n",
       "\n",
       "    .dataframe tbody tr th {\n",
       "        vertical-align: top;\n",
       "    }\n",
       "\n",
       "    .dataframe thead th {\n",
       "        text-align: right;\n",
       "    }\n",
       "</style>\n",
       "<table border=\"1\" class=\"dataframe\">\n",
       "  <thead>\n",
       "    <tr style=\"text-align: right;\">\n",
       "      <th></th>\n",
       "      <th>CountryName</th>\n",
       "      <th>CountryCode</th>\n",
       "      <th>IndicatorName</th>\n",
       "      <th>IndicatorCode</th>\n",
       "      <th>Year</th>\n",
       "      <th>Value</th>\n",
       "    </tr>\n",
       "  </thead>\n",
       "  <tbody>\n",
       "    <tr>\n",
       "      <th>429</th>\n",
       "      <td>East Asia &amp; Pacific (developing only)</td>\n",
       "      <td>EAP</td>\n",
       "      <td>Mobile cellular subscriptions (per 100 people)</td>\n",
       "      <td>IT.CEL.SETS.P2</td>\n",
       "      <td>1960</td>\n",
       "      <td>0.0</td>\n",
       "    </tr>\n",
       "    <tr>\n",
       "      <th>751</th>\n",
       "      <td>Europe &amp; Central Asia (developing only)</td>\n",
       "      <td>ECA</td>\n",
       "      <td>Mobile cellular subscriptions (per 100 people)</td>\n",
       "      <td>IT.CEL.SETS.P2</td>\n",
       "      <td>1960</td>\n",
       "      <td>0.0</td>\n",
       "    </tr>\n",
       "    <tr>\n",
       "      <th>1624</th>\n",
       "      <td>Latin America &amp; Caribbean (developing only)</td>\n",
       "      <td>LAC</td>\n",
       "      <td>Mobile cellular subscriptions (per 100 people)</td>\n",
       "      <td>IT.CEL.SETS.P2</td>\n",
       "      <td>1960</td>\n",
       "      <td>0.0</td>\n",
       "    </tr>\n",
       "    <tr>\n",
       "      <th>2231</th>\n",
       "      <td>Middle East &amp; North Africa (developing only)</td>\n",
       "      <td>MNA</td>\n",
       "      <td>Mobile cellular subscriptions (per 100 people)</td>\n",
       "      <td>IT.CEL.SETS.P2</td>\n",
       "      <td>1960</td>\n",
       "      <td>0.0</td>\n",
       "    </tr>\n",
       "    <tr>\n",
       "      <th>3192</th>\n",
       "      <td>Sub-Saharan Africa (developing only)</td>\n",
       "      <td>SSA</td>\n",
       "      <td>Mobile cellular subscriptions (per 100 people)</td>\n",
       "      <td>IT.CEL.SETS.P2</td>\n",
       "      <td>1960</td>\n",
       "      <td>0.0</td>\n",
       "    </tr>\n",
       "    <tr>\n",
       "      <th>136554</th>\n",
       "      <td>East Asia &amp; Pacific (developing only)</td>\n",
       "      <td>EAP</td>\n",
       "      <td>Mobile cellular subscriptions (per 100 people)</td>\n",
       "      <td>IT.CEL.SETS.P2</td>\n",
       "      <td>1965</td>\n",
       "      <td>0.0</td>\n",
       "    </tr>\n",
       "    <tr>\n",
       "      <th>136957</th>\n",
       "      <td>Europe &amp; Central Asia (developing only)</td>\n",
       "      <td>ECA</td>\n",
       "      <td>Mobile cellular subscriptions (per 100 people)</td>\n",
       "      <td>IT.CEL.SETS.P2</td>\n",
       "      <td>1965</td>\n",
       "      <td>0.0</td>\n",
       "    </tr>\n",
       "    <tr>\n",
       "      <th>138135</th>\n",
       "      <td>Latin America &amp; Caribbean (developing only)</td>\n",
       "      <td>LAC</td>\n",
       "      <td>Mobile cellular subscriptions (per 100 people)</td>\n",
       "      <td>IT.CEL.SETS.P2</td>\n",
       "      <td>1965</td>\n",
       "      <td>0.0</td>\n",
       "    </tr>\n",
       "    <tr>\n",
       "      <th>138935</th>\n",
       "      <td>Middle East &amp; North Africa (developing only)</td>\n",
       "      <td>MNA</td>\n",
       "      <td>Mobile cellular subscriptions (per 100 people)</td>\n",
       "      <td>IT.CEL.SETS.P2</td>\n",
       "      <td>1965</td>\n",
       "      <td>0.0</td>\n",
       "    </tr>\n",
       "    <tr>\n",
       "      <th>140207</th>\n",
       "      <td>Sub-Saharan Africa (developing only)</td>\n",
       "      <td>SSA</td>\n",
       "      <td>Mobile cellular subscriptions (per 100 people)</td>\n",
       "      <td>IT.CEL.SETS.P2</td>\n",
       "      <td>1965</td>\n",
       "      <td>0.0</td>\n",
       "    </tr>\n",
       "    <tr>\n",
       "      <th>298598</th>\n",
       "      <td>East Asia &amp; Pacific (developing only)</td>\n",
       "      <td>EAP</td>\n",
       "      <td>Mobile cellular subscriptions (per 100 people)</td>\n",
       "      <td>IT.CEL.SETS.P2</td>\n",
       "      <td>1970</td>\n",
       "      <td>0.0</td>\n",
       "    </tr>\n",
       "    <tr>\n",
       "      <th>299423</th>\n",
       "      <td>Europe &amp; Central Asia (developing only)</td>\n",
       "      <td>ECA</td>\n",
       "      <td>Mobile cellular subscriptions (per 100 people)</td>\n",
       "      <td>IT.CEL.SETS.P2</td>\n",
       "      <td>1970</td>\n",
       "      <td>0.0</td>\n",
       "    </tr>\n",
       "    <tr>\n",
       "      <th>301497</th>\n",
       "      <td>Latin America &amp; Caribbean (developing only)</td>\n",
       "      <td>LAC</td>\n",
       "      <td>Mobile cellular subscriptions (per 100 people)</td>\n",
       "      <td>IT.CEL.SETS.P2</td>\n",
       "      <td>1970</td>\n",
       "      <td>0.0</td>\n",
       "    </tr>\n",
       "    <tr>\n",
       "      <th>303598</th>\n",
       "      <td>Middle East &amp; North Africa (developing only)</td>\n",
       "      <td>MNA</td>\n",
       "      <td>Mobile cellular subscriptions (per 100 people)</td>\n",
       "      <td>IT.CEL.SETS.P2</td>\n",
       "      <td>1970</td>\n",
       "      <td>0.0</td>\n",
       "    </tr>\n",
       "    <tr>\n",
       "      <th>306089</th>\n",
       "      <td>Sub-Saharan Africa (developing only)</td>\n",
       "      <td>SSA</td>\n",
       "      <td>Mobile cellular subscriptions (per 100 people)</td>\n",
       "      <td>IT.CEL.SETS.P2</td>\n",
       "      <td>1970</td>\n",
       "      <td>0.0</td>\n",
       "    </tr>\n",
       "  </tbody>\n",
       "</table>\n",
       "</div>"
      ],
      "text/plain": [
       "                                         CountryName CountryCode  \\\n",
       "429            East Asia & Pacific (developing only)         EAP   \n",
       "751          Europe & Central Asia (developing only)         ECA   \n",
       "1624     Latin America & Caribbean (developing only)         LAC   \n",
       "2231    Middle East & North Africa (developing only)         MNA   \n",
       "3192            Sub-Saharan Africa (developing only)         SSA   \n",
       "136554         East Asia & Pacific (developing only)         EAP   \n",
       "136957       Europe & Central Asia (developing only)         ECA   \n",
       "138135   Latin America & Caribbean (developing only)         LAC   \n",
       "138935  Middle East & North Africa (developing only)         MNA   \n",
       "140207          Sub-Saharan Africa (developing only)         SSA   \n",
       "298598         East Asia & Pacific (developing only)         EAP   \n",
       "299423       Europe & Central Asia (developing only)         ECA   \n",
       "301497   Latin America & Caribbean (developing only)         LAC   \n",
       "303598  Middle East & North Africa (developing only)         MNA   \n",
       "306089          Sub-Saharan Africa (developing only)         SSA   \n",
       "\n",
       "                                         IndicatorName   IndicatorCode  Year  \\\n",
       "429     Mobile cellular subscriptions (per 100 people)  IT.CEL.SETS.P2  1960   \n",
       "751     Mobile cellular subscriptions (per 100 people)  IT.CEL.SETS.P2  1960   \n",
       "1624    Mobile cellular subscriptions (per 100 people)  IT.CEL.SETS.P2  1960   \n",
       "2231    Mobile cellular subscriptions (per 100 people)  IT.CEL.SETS.P2  1960   \n",
       "3192    Mobile cellular subscriptions (per 100 people)  IT.CEL.SETS.P2  1960   \n",
       "136554  Mobile cellular subscriptions (per 100 people)  IT.CEL.SETS.P2  1965   \n",
       "136957  Mobile cellular subscriptions (per 100 people)  IT.CEL.SETS.P2  1965   \n",
       "138135  Mobile cellular subscriptions (per 100 people)  IT.CEL.SETS.P2  1965   \n",
       "138935  Mobile cellular subscriptions (per 100 people)  IT.CEL.SETS.P2  1965   \n",
       "140207  Mobile cellular subscriptions (per 100 people)  IT.CEL.SETS.P2  1965   \n",
       "298598  Mobile cellular subscriptions (per 100 people)  IT.CEL.SETS.P2  1970   \n",
       "299423  Mobile cellular subscriptions (per 100 people)  IT.CEL.SETS.P2  1970   \n",
       "301497  Mobile cellular subscriptions (per 100 people)  IT.CEL.SETS.P2  1970   \n",
       "303598  Mobile cellular subscriptions (per 100 people)  IT.CEL.SETS.P2  1970   \n",
       "306089  Mobile cellular subscriptions (per 100 people)  IT.CEL.SETS.P2  1970   \n",
       "\n",
       "        Value  \n",
       "429       0.0  \n",
       "751       0.0  \n",
       "1624      0.0  \n",
       "2231      0.0  \n",
       "3192      0.0  \n",
       "136554    0.0  \n",
       "136957    0.0  \n",
       "138135    0.0  \n",
       "138935    0.0  \n",
       "140207    0.0  \n",
       "298598    0.0  \n",
       "299423    0.0  \n",
       "301497    0.0  \n",
       "303598    0.0  \n",
       "306089    0.0  "
      ]
     },
     "execution_count": 35,
     "metadata": {},
     "output_type": "execute_result"
    }
   ],
   "source": [
    "#filter_indicator_mobile = data['IndicatorName'].str.contains('Mobile cellular subscriptions \\(per 100 people')\n",
    "filter_indicator_developing = data['CountryName'].str.contains('developing only')\n",
    "\n",
    "data_mobile_developing = data [filter_indicator_developing & filter_indicator_mobile]\n",
    "data_mobile_developing.head(15)"
   ]
  },
  {
   "cell_type": "markdown",
   "metadata": {},
   "source": [
    "Now, let's take all the CountryCode that matches the developing areas"
   ]
  },
  {
   "cell_type": "code",
   "execution_count": 36,
   "metadata": {},
   "outputs": [
    {
     "data": {
      "text/plain": [
       "['EAP', 'ECA', 'LAC', 'MNA', 'SSA']"
      ]
     },
     "execution_count": 36,
     "metadata": {},
     "output_type": "execute_result"
    }
   ],
   "source": [
    "data_mobile_developing['CountryCode'].unique().tolist()"
   ]
  },
  {
   "cell_type": "markdown",
   "metadata": {},
   "source": [
    "Let's pick and filter these 5 developping areas CountryCode"
   ]
  },
  {
   "cell_type": "code",
   "execution_count": 37,
   "metadata": {},
   "outputs": [],
   "source": [
    "#filter_indicator_mobile = data['IndicatorName'].str.contains('Mobile cellular subscriptions \\(per 100 people')\n",
    "\n",
    "filter_indicator_EAP = data['CountryCode'].str.contains('EAP')\n",
    "filter_indicator_ECA = data['CountryCode'].str.contains('ECA')\n",
    "filter_indicator_LAC = data['CountryCode'].str.contains('LAC')\n",
    "filter_indicator_MNA = data['CountryCode'].str.contains('MNA')\n",
    "filter_indicator_SSA = data['CountryCode'].str.contains('SSA')\n",
    "\n",
    "data_mobile_EAP = data [filter_indicator_EAP & filter_indicator_mobile]\n",
    "data_mobile_ECA = data [filter_indicator_ECA & filter_indicator_mobile]\n",
    "data_mobile_LAC = data [filter_indicator_LAC & filter_indicator_mobile]\n",
    "data_mobile_MNA = data [filter_indicator_MNA & filter_indicator_mobile]\n",
    "data_mobile_SSA = data [filter_indicator_SSA & filter_indicator_mobile]"
   ]
  },
  {
   "cell_type": "markdown",
   "metadata": {},
   "source": [
    "Are the length equal ?"
   ]
  },
  {
   "cell_type": "code",
   "execution_count": 38,
   "metadata": {},
   "outputs": [
    {
     "name": "stdout",
     "output_type": "stream",
     "text": [
      "43\n",
      "43\n",
      "43\n",
      "43\n",
      "43\n",
      "43\n"
     ]
    }
   ],
   "source": [
    "print(len(data_mobile_EAP))\n",
    "print(len(data_mobile_ECA))\n",
    "print(len(data_mobile_LAC))\n",
    "print(len(data_mobile_MNA))\n",
    "print(len(data_mobile_SSA))\n",
    "print(len(data_mobile_mdg))"
   ]
  },
  {
   "cell_type": "markdown",
   "metadata": {},
   "source": [
    "The lengths are the same. Let's look at one dataset to see what it looks like :"
   ]
  },
  {
   "cell_type": "code",
   "execution_count": 39,
   "metadata": {},
   "outputs": [
    {
     "data": {
      "text/html": [
       "<div>\n",
       "<style scoped>\n",
       "    .dataframe tbody tr th:only-of-type {\n",
       "        vertical-align: middle;\n",
       "    }\n",
       "\n",
       "    .dataframe tbody tr th {\n",
       "        vertical-align: top;\n",
       "    }\n",
       "\n",
       "    .dataframe thead th {\n",
       "        text-align: right;\n",
       "    }\n",
       "</style>\n",
       "<table border=\"1\" class=\"dataframe\">\n",
       "  <thead>\n",
       "    <tr style=\"text-align: right;\">\n",
       "      <th></th>\n",
       "      <th>CountryName</th>\n",
       "      <th>CountryCode</th>\n",
       "      <th>IndicatorName</th>\n",
       "      <th>IndicatorCode</th>\n",
       "      <th>Year</th>\n",
       "      <th>Value</th>\n",
       "    </tr>\n",
       "  </thead>\n",
       "  <tbody>\n",
       "    <tr>\n",
       "      <th>429</th>\n",
       "      <td>East Asia &amp; Pacific (developing only)</td>\n",
       "      <td>EAP</td>\n",
       "      <td>Mobile cellular subscriptions (per 100 people)</td>\n",
       "      <td>IT.CEL.SETS.P2</td>\n",
       "      <td>1960</td>\n",
       "      <td>0.0</td>\n",
       "    </tr>\n",
       "    <tr>\n",
       "      <th>136554</th>\n",
       "      <td>East Asia &amp; Pacific (developing only)</td>\n",
       "      <td>EAP</td>\n",
       "      <td>Mobile cellular subscriptions (per 100 people)</td>\n",
       "      <td>IT.CEL.SETS.P2</td>\n",
       "      <td>1965</td>\n",
       "      <td>0.0</td>\n",
       "    </tr>\n",
       "    <tr>\n",
       "      <th>298598</th>\n",
       "      <td>East Asia &amp; Pacific (developing only)</td>\n",
       "      <td>EAP</td>\n",
       "      <td>Mobile cellular subscriptions (per 100 people)</td>\n",
       "      <td>IT.CEL.SETS.P2</td>\n",
       "      <td>1970</td>\n",
       "      <td>0.0</td>\n",
       "    </tr>\n",
       "    <tr>\n",
       "      <th>638974</th>\n",
       "      <td>East Asia &amp; Pacific (developing only)</td>\n",
       "      <td>EAP</td>\n",
       "      <td>Mobile cellular subscriptions (per 100 people)</td>\n",
       "      <td>IT.CEL.SETS.P2</td>\n",
       "      <td>1975</td>\n",
       "      <td>0.0</td>\n",
       "    </tr>\n",
       "    <tr>\n",
       "      <th>711540</th>\n",
       "      <td>East Asia &amp; Pacific (developing only)</td>\n",
       "      <td>EAP</td>\n",
       "      <td>Mobile cellular subscriptions (per 100 people)</td>\n",
       "      <td>IT.CEL.SETS.P2</td>\n",
       "      <td>1976</td>\n",
       "      <td>0.0</td>\n",
       "    </tr>\n",
       "  </tbody>\n",
       "</table>\n",
       "</div>"
      ],
      "text/plain": [
       "                                  CountryName CountryCode  \\\n",
       "429     East Asia & Pacific (developing only)         EAP   \n",
       "136554  East Asia & Pacific (developing only)         EAP   \n",
       "298598  East Asia & Pacific (developing only)         EAP   \n",
       "638974  East Asia & Pacific (developing only)         EAP   \n",
       "711540  East Asia & Pacific (developing only)         EAP   \n",
       "\n",
       "                                         IndicatorName   IndicatorCode  Year  \\\n",
       "429     Mobile cellular subscriptions (per 100 people)  IT.CEL.SETS.P2  1960   \n",
       "136554  Mobile cellular subscriptions (per 100 people)  IT.CEL.SETS.P2  1965   \n",
       "298598  Mobile cellular subscriptions (per 100 people)  IT.CEL.SETS.P2  1970   \n",
       "638974  Mobile cellular subscriptions (per 100 people)  IT.CEL.SETS.P2  1975   \n",
       "711540  Mobile cellular subscriptions (per 100 people)  IT.CEL.SETS.P2  1976   \n",
       "\n",
       "        Value  \n",
       "429       0.0  \n",
       "136554    0.0  \n",
       "298598    0.0  \n",
       "638974    0.0  \n",
       "711540    0.0  "
      ]
     },
     "execution_count": 39,
     "metadata": {},
     "output_type": "execute_result"
    }
   ],
   "source": [
    "data_mobile_EAP.head()"
   ]
  },
  {
   "cell_type": "code",
   "execution_count": 40,
   "metadata": {},
   "outputs": [],
   "source": [
    "# get the values\n",
    "value_mobile_MDG = data_mobile_mdg['Value'].values\n",
    "value_mobile_EAP = data_mobile_EAP['Value'].values\n",
    "value_mobile_ECA = data_mobile_ECA['Value'].values\n",
    "value_mobile_LAC = data_mobile_LAC['Value'].values\n",
    "value_mobile_MNA = data_mobile_MNA['Value'].values\n",
    "value_mobile_SSA = data_mobile_SSA['Value'].values"
   ]
  },
  {
   "cell_type": "code",
   "execution_count": 41,
   "metadata": {},
   "outputs": [
    {
     "data": {
      "image/png": "[encoded data removed]",
      "text/plain": [
       "<Figure size 720x360 with 1 Axes>"
      ]
     },
     "metadata": {},
     "output_type": "display_data"
    }
   ],
   "source": [
    "plt.figure(figsize=(10,5))\n",
    "\n",
    "plt.plot(years,value_mobile_MDG,'--')\n",
    "plt.plot(years,value_mobile_EAP)\n",
    "plt.plot(years,value_mobile_ECA)\n",
    "plt.plot(years,value_mobile_LAC)\n",
    "plt.plot(years,value_mobile_MNA)\n",
    "plt.plot(years,value_mobile_SSA)\n",
    "\n",
    "# Label the axes\n",
    "plt.xlabel('Year')\n",
    "plt.ylabel(data_mobile_mdg['IndicatorName'].iloc[0])\n",
    "\n",
    "#label the figure\n",
    "plt.title('Mobile cellular subscriptions in Madagascar VS Developing word')\n",
    "\n",
    "#plt.axis([1990, 2015,0,350])\n",
    "legend = plt.legend([\"Madagascar\",\"East Asia & Pacific (developing only)\",\n",
    "            \"Europe & Central Asia (developing only)\",\"Latin America & Caribbean (developing only)\",\n",
    "            \"Middle East & North Africa (developing only)\",\"Sub-Saharan Africa (developing only)\"],\n",
    "           prop={'weight':'roman','size':'large'})\n",
    "frame = legend.get_frame()\n",
    "frame.set_facecolor('.95')\n",
    "plt.show()"
   ]
  },
  {
   "cell_type": "markdown",
   "metadata": {},
   "source": [
    "**Conclusion :**\n",
    "\n",
    "* Madagascar is **far below** the rest of the developing world.\n",
    "* The Sub-Saharan Africa (which is the area where Madagascar belongs) is the **closest to it's curve.**\n",
    "* The beginning of the **mobile revolution has been delayed in Madagascar** and start almost 7 years after the other developing countries.This is even more obvious when compared to high income OECD (see below)!"
   ]
  },
  {
   "cell_type": "markdown",
   "metadata": {},
   "source": [
    "### How this relates to the developped countries ?### \n",
    "\n",
    "I pick 2 areas and 2 countries :\n",
    "* High income: OECD\n",
    "* High income: Non OECD\n",
    "* United Kingdom\n",
    "* France"
   ]
  },
  {
   "cell_type": "code",
   "execution_count": 42,
   "metadata": {},
   "outputs": [],
   "source": [
    "filter_indicator_HI_OECD = data['CountryName'].str.contains('High income: OECD')\n",
    "filter_indicator_HI_NOECD = data['CountryName'].str.contains('High income: nonOECD')\n",
    "filter_indicator_UK = data['CountryName'].str.contains('United Kingdom')\n",
    "filter_indicator_FRA = data['CountryCode'].str.contains('FRA')\n",
    "\n",
    "data_mobile_HI_OECD = data[filter_indicator_HI_OECD & filter_indicator_mobile]\n",
    "data_mobile_HI_NOECD = data[filter_indicator_HI_NOECD & filter_indicator_mobile]\n",
    "data_mobile_UK = data[filter_indicator_UK & filter_indicator_mobile]\n",
    "data_mobile_FRA = data [filter_indicator_FRA & filter_indicator_mobile]"
   ]
  },
  {
   "cell_type": "code",
   "execution_count": 43,
   "metadata": {},
   "outputs": [
    {
     "name": "stdout",
     "output_type": "stream",
     "text": [
      "43\n",
      "43\n",
      "43\n",
      "43\n"
     ]
    }
   ],
   "source": [
    "print(len(data_mobile_HI_OECD))\n",
    "print(len(data_mobile_HI_NOECD))\n",
    "print(len(data_mobile_UK))\n",
    "print(len(data_mobile_FRA))"
   ]
  },
  {
   "cell_type": "code",
   "execution_count": 44,
   "metadata": {},
   "outputs": [],
   "source": [
    "value_mobile_HI_OECD = data_mobile_HI_OECD['Value'].values\n",
    "value_mobile_HI_NOECD = data_mobile_HI_NOECD['Value'].values\n",
    "value_mobile_HI_UK = data_mobile_UK['Value'].values\n",
    "value_mobile_HI_FRA = data_mobile_FRA['Value'].values"
   ]
  },
  {
   "cell_type": "code",
   "execution_count": 45,
   "metadata": {},
   "outputs": [
    {
     "data": {
      "image/png": "[encoded data removed]",
      "text/plain": [
       "<Figure size 720x360 with 1 Axes>"
      ]
     },
     "metadata": {},
     "output_type": "display_data"
    }
   ],
   "source": [
    "plt.figure(figsize=(10,5))\n",
    "\n",
    "plt.plot(years,value_mobile_MDG,'--')\n",
    "plt.plot(years,value_mobile_HI_OECD)\n",
    "plt.plot(years,value_mobile_HI_NOECD)\n",
    "plt.plot(years,value_mobile_HI_UK)\n",
    "plt.plot(years,value_mobile_HI_FRA)\n",
    "\n",
    "\n",
    "# Label the axes\n",
    "plt.xlabel('Year')\n",
    "plt.ylabel(data_mobile_mdg['IndicatorName'].iloc[0])\n",
    "\n",
    "#label the figure\n",
    "plt.title('Mobile cellular subscriptions in Madagascar VS Developped countries (OECD & Non OECD) + France & UK')\n",
    "\n",
    "#plt.axis([1990, 2016,0,350])\n",
    "legend = plt.legend([\"Madagascar\",\"High income: OECD\",\"High income: nonOECD\",\"United Kingdom\",\"France\"],  \n",
    "                    shadow=True, prop={'weight':'roman','size':'large'})\n",
    "\n",
    "frame = legend.get_frame()\n",
    "frame.set_facecolor('.95')\n",
    "plt.show()"
   ]
  },
  {
   "cell_type": "markdown",
   "metadata": {},
   "source": [
    "While the beginning of the cellular subscription began around 2000 in Madagascar, it began earlier around 1990 in High income countries."
   ]
  },
  {
   "cell_type": "markdown",
   "metadata": {},
   "source": [
    "## Relationship between GDP and  cellular subscriptions in Madagascar##"
   ]
  },
  {
   "cell_type": "markdown",
   "metadata": {},
   "source": [
    "### 1) First, let's look at the GDP per capita in Madagascar ###"
   ]
  },
  {
   "cell_type": "code",
   "execution_count": 46,
   "metadata": {},
   "outputs": [],
   "source": [
    "# Create a filter to select GDP per capita in Madagascar\n",
    "filter_GDP = data['IndicatorName'].str.contains('GDP per capita \\(constant 2005')\n",
    "#filter_madagascar = data['CountryName']=='Madagascar'\n",
    "data_GDP_mdg = data[filter_madagascar & filter_GDP]"
   ]
  },
  {
   "cell_type": "code",
   "execution_count": 47,
   "metadata": {},
   "outputs": [
    {
     "name": "stdout",
     "output_type": "stream",
     "text": [
      "55\n"
     ]
    },
    {
     "data": {
      "text/html": [
       "<div>\n",
       "<style scoped>\n",
       "    .dataframe tbody tr th:only-of-type {\n",
       "        vertical-align: middle;\n",
       "    }\n",
       "\n",
       "    .dataframe tbody tr th {\n",
       "        vertical-align: top;\n",
       "    }\n",
       "\n",
       "    .dataframe thead th {\n",
       "        text-align: right;\n",
       "    }\n",
       "</style>\n",
       "<table border=\"1\" class=\"dataframe\">\n",
       "  <thead>\n",
       "    <tr style=\"text-align: right;\">\n",
       "      <th></th>\n",
       "      <th>CountryName</th>\n",
       "      <th>CountryCode</th>\n",
       "      <th>IndicatorName</th>\n",
       "      <th>IndicatorCode</th>\n",
       "      <th>Year</th>\n",
       "      <th>Value</th>\n",
       "    </tr>\n",
       "  </thead>\n",
       "  <tbody>\n",
       "    <tr>\n",
       "      <th>14394</th>\n",
       "      <td>Madagascar</td>\n",
       "      <td>MDG</td>\n",
       "      <td>GDP per capita (constant 2005 US$)</td>\n",
       "      <td>NY.GDP.PCAP.KD</td>\n",
       "      <td>1960</td>\n",
       "      <td>475.498701</td>\n",
       "    </tr>\n",
       "    <tr>\n",
       "      <th>39704</th>\n",
       "      <td>Madagascar</td>\n",
       "      <td>MDG</td>\n",
       "      <td>GDP per capita (constant 2005 US$)</td>\n",
       "      <td>NY.GDP.PCAP.KD</td>\n",
       "      <td>1961</td>\n",
       "      <td>473.697918</td>\n",
       "    </tr>\n",
       "    <tr>\n",
       "      <th>67411</th>\n",
       "      <td>Madagascar</td>\n",
       "      <td>MDG</td>\n",
       "      <td>GDP per capita (constant 2005 US$)</td>\n",
       "      <td>NY.GDP.PCAP.KD</td>\n",
       "      <td>1962</td>\n",
       "      <td>472.775693</td>\n",
       "    </tr>\n",
       "    <tr>\n",
       "      <th>95974</th>\n",
       "      <td>Madagascar</td>\n",
       "      <td>MDG</td>\n",
       "      <td>GDP per capita (constant 2005 US$)</td>\n",
       "      <td>NY.GDP.PCAP.KD</td>\n",
       "      <td>1963</td>\n",
       "      <td>456.949256</td>\n",
       "    </tr>\n",
       "    <tr>\n",
       "      <th>124822</th>\n",
       "      <td>Madagascar</td>\n",
       "      <td>MDG</td>\n",
       "      <td>GDP per capita (constant 2005 US$)</td>\n",
       "      <td>NY.GDP.PCAP.KD</td>\n",
       "      <td>1964</td>\n",
       "      <td>463.333847</td>\n",
       "    </tr>\n",
       "  </tbody>\n",
       "</table>\n",
       "</div>"
      ],
      "text/plain": [
       "       CountryName CountryCode                       IndicatorName  \\\n",
       "14394   Madagascar         MDG  GDP per capita (constant 2005 US$)   \n",
       "39704   Madagascar         MDG  GDP per capita (constant 2005 US$)   \n",
       "67411   Madagascar         MDG  GDP per capita (constant 2005 US$)   \n",
       "95974   Madagascar         MDG  GDP per capita (constant 2005 US$)   \n",
       "124822  Madagascar         MDG  GDP per capita (constant 2005 US$)   \n",
       "\n",
       "         IndicatorCode  Year       Value  \n",
       "14394   NY.GDP.PCAP.KD  1960  475.498701  \n",
       "39704   NY.GDP.PCAP.KD  1961  473.697918  \n",
       "67411   NY.GDP.PCAP.KD  1962  472.775693  \n",
       "95974   NY.GDP.PCAP.KD  1963  456.949256  \n",
       "124822  NY.GDP.PCAP.KD  1964  463.333847  "
      ]
     },
     "execution_count": 47,
     "metadata": {},
     "output_type": "execute_result"
    }
   ],
   "source": [
    "print(len(data_GDP_mdg))\n",
    "data_GDP_mdg.head()"
   ]
  },
  {
   "cell_type": "code",
   "execution_count": 48,
   "metadata": {},
   "outputs": [],
   "source": [
    "value_years = data_GDP_mdg['Year'].values\n",
    "value_GDP= data_GDP_mdg['Value'].values"
   ]
  },
  {
   "cell_type": "code",
   "execution_count": 101,
   "metadata": {},
   "outputs": [
    {
     "data": {
      "image/png": "[encoded data removed]",
      "text/plain": [
       "<Figure size 720x360 with 1 Axes>"
      ]
     },
     "metadata": {},
     "output_type": "display_data"
    }
   ],
   "source": [
    "plt.figure(figsize=(10,5))\n",
    "plt.plot(value_years,value_GDP,'--')\n",
    "\n",
    "# Label the axes\n",
    "plt.xlabel('Year')\n",
    "plt.ylabel(data_GDP_mdg['IndicatorName'].iloc[0])\n",
    "\n",
    "plt.title('GDP per capita in Madagascar')\n",
    "legend = plt.legend([\"Madagascar\"],  \n",
    "                    shadow=True, prop={'weight':'roman','size':'large'})\n",
    "frame = legend.get_frame()\n",
    "frame.set_facecolor('.95')\n",
    "plt.show()"
   ]
  },
  {
   "cell_type": "markdown",
   "metadata": {},
   "source": [
    "We can see that Madagascar's GDP decreases all the time. It tries to recover almost every ten years (1970, 1980, 1990, 2009) and then tend to decrease again !"
   ]
  },
  {
   "cell_type": "markdown",
   "metadata": {},
   "source": [
    "### 2) Second, let's compare GDP (per capita) against cellular subscriptions in Madagascar by using scatter plots & statistical correlation ###"
   ]
  },
  {
   "cell_type": "code",
   "execution_count": 50,
   "metadata": {},
   "outputs": [
    {
     "name": "stdout",
     "output_type": "stream",
     "text": [
      "GDP Years are from : 1960  to  2014\n",
      "Mobile subscriptions Years are from 1960  to  2014\n"
     ]
    }
   ],
   "source": [
    "print(\"GDP Years are from :\",min(data_GDP_mdg['Year'].tolist()),\" to \",max(data_GDP_mdg['Year'].tolist()))\n",
    "print(\"Mobile subscriptions Years are from\",min(data_mobile_mdg['Year'].tolist()),\" to \",max(data_mobile_mdg['Year'].tolist()))"
   ]
  },
  {
   "cell_type": "code",
   "execution_count": 51,
   "metadata": {},
   "outputs": [
    {
     "name": "stdout",
     "output_type": "stream",
     "text": [
      "43\n",
      "55\n"
     ]
    }
   ],
   "source": [
    "print(len(data_mobile_mdg['Value']))\n",
    "print(len(data_GDP_mdg['Value']))"
   ]
  },
  {
   "cell_type": "markdown",
   "metadata": {},
   "source": [
    "The length of data_mobile_mdg and data_GDP_mdg are different. "
   ]
  },
  {
   "cell_type": "code",
   "execution_count": 52,
   "metadata": {},
   "outputs": [
    {
     "data": {
      "text/html": [
       "<div>\n",
       "<style scoped>\n",
       "    .dataframe tbody tr th:only-of-type {\n",
       "        vertical-align: middle;\n",
       "    }\n",
       "\n",
       "    .dataframe tbody tr th {\n",
       "        vertical-align: top;\n",
       "    }\n",
       "\n",
       "    .dataframe thead th {\n",
       "        text-align: right;\n",
       "    }\n",
       "</style>\n",
       "<table border=\"1\" class=\"dataframe\">\n",
       "  <thead>\n",
       "    <tr style=\"text-align: right;\">\n",
       "      <th></th>\n",
       "      <th>CountryName</th>\n",
       "      <th>CountryCode</th>\n",
       "      <th>IndicatorName</th>\n",
       "      <th>IndicatorCode</th>\n",
       "      <th>Year</th>\n",
       "      <th>Value</th>\n",
       "    </tr>\n",
       "  </thead>\n",
       "  <tbody>\n",
       "    <tr>\n",
       "      <th>14474</th>\n",
       "      <td>Madagascar</td>\n",
       "      <td>MDG</td>\n",
       "      <td>Mobile cellular subscriptions (per 100 people)</td>\n",
       "      <td>IT.CEL.SETS.P2</td>\n",
       "      <td>1960</td>\n",
       "      <td>0.000000</td>\n",
       "    </tr>\n",
       "    <tr>\n",
       "      <th>155913</th>\n",
       "      <td>Madagascar</td>\n",
       "      <td>MDG</td>\n",
       "      <td>Mobile cellular subscriptions (per 100 people)</td>\n",
       "      <td>IT.CEL.SETS.P2</td>\n",
       "      <td>1965</td>\n",
       "      <td>0.000000</td>\n",
       "    </tr>\n",
       "    <tr>\n",
       "      <th>336051</th>\n",
       "      <td>Madagascar</td>\n",
       "      <td>MDG</td>\n",
       "      <td>Mobile cellular subscriptions (per 100 people)</td>\n",
       "      <td>IT.CEL.SETS.P2</td>\n",
       "      <td>1970</td>\n",
       "      <td>0.000000</td>\n",
       "    </tr>\n",
       "    <tr>\n",
       "      <th>682417</th>\n",
       "      <td>Madagascar</td>\n",
       "      <td>MDG</td>\n",
       "      <td>Mobile cellular subscriptions (per 100 people)</td>\n",
       "      <td>IT.CEL.SETS.P2</td>\n",
       "      <td>1975</td>\n",
       "      <td>0.000000</td>\n",
       "    </tr>\n",
       "    <tr>\n",
       "      <th>755373</th>\n",
       "      <td>Madagascar</td>\n",
       "      <td>MDG</td>\n",
       "      <td>Mobile cellular subscriptions (per 100 people)</td>\n",
       "      <td>IT.CEL.SETS.P2</td>\n",
       "      <td>1976</td>\n",
       "      <td>0.000000</td>\n",
       "    </tr>\n",
       "    <tr>\n",
       "      <th>830111</th>\n",
       "      <td>Madagascar</td>\n",
       "      <td>MDG</td>\n",
       "      <td>Mobile cellular subscriptions (per 100 people)</td>\n",
       "      <td>IT.CEL.SETS.P2</td>\n",
       "      <td>1977</td>\n",
       "      <td>0.000000</td>\n",
       "    </tr>\n",
       "    <tr>\n",
       "      <th>905488</th>\n",
       "      <td>Madagascar</td>\n",
       "      <td>MDG</td>\n",
       "      <td>Mobile cellular subscriptions (per 100 people)</td>\n",
       "      <td>IT.CEL.SETS.P2</td>\n",
       "      <td>1978</td>\n",
       "      <td>0.000000</td>\n",
       "    </tr>\n",
       "    <tr>\n",
       "      <th>981351</th>\n",
       "      <td>Madagascar</td>\n",
       "      <td>MDG</td>\n",
       "      <td>Mobile cellular subscriptions (per 100 people)</td>\n",
       "      <td>IT.CEL.SETS.P2</td>\n",
       "      <td>1979</td>\n",
       "      <td>0.000000</td>\n",
       "    </tr>\n",
       "    <tr>\n",
       "      <th>1060554</th>\n",
       "      <td>Madagascar</td>\n",
       "      <td>MDG</td>\n",
       "      <td>Mobile cellular subscriptions (per 100 people)</td>\n",
       "      <td>IT.CEL.SETS.P2</td>\n",
       "      <td>1980</td>\n",
       "      <td>0.000000</td>\n",
       "    </tr>\n",
       "    <tr>\n",
       "      <th>1143739</th>\n",
       "      <td>Madagascar</td>\n",
       "      <td>MDG</td>\n",
       "      <td>Mobile cellular subscriptions (per 100 people)</td>\n",
       "      <td>IT.CEL.SETS.P2</td>\n",
       "      <td>1981</td>\n",
       "      <td>0.000000</td>\n",
       "    </tr>\n",
       "    <tr>\n",
       "      <th>1228485</th>\n",
       "      <td>Madagascar</td>\n",
       "      <td>MDG</td>\n",
       "      <td>Mobile cellular subscriptions (per 100 people)</td>\n",
       "      <td>IT.CEL.SETS.P2</td>\n",
       "      <td>1982</td>\n",
       "      <td>0.000000</td>\n",
       "    </tr>\n",
       "    <tr>\n",
       "      <th>1313875</th>\n",
       "      <td>Madagascar</td>\n",
       "      <td>MDG</td>\n",
       "      <td>Mobile cellular subscriptions (per 100 people)</td>\n",
       "      <td>IT.CEL.SETS.P2</td>\n",
       "      <td>1983</td>\n",
       "      <td>0.000000</td>\n",
       "    </tr>\n",
       "    <tr>\n",
       "      <th>1399517</th>\n",
       "      <td>Madagascar</td>\n",
       "      <td>MDG</td>\n",
       "      <td>Mobile cellular subscriptions (per 100 people)</td>\n",
       "      <td>IT.CEL.SETS.P2</td>\n",
       "      <td>1984</td>\n",
       "      <td>0.000000</td>\n",
       "    </tr>\n",
       "    <tr>\n",
       "      <th>1486178</th>\n",
       "      <td>Madagascar</td>\n",
       "      <td>MDG</td>\n",
       "      <td>Mobile cellular subscriptions (per 100 people)</td>\n",
       "      <td>IT.CEL.SETS.P2</td>\n",
       "      <td>1985</td>\n",
       "      <td>0.000000</td>\n",
       "    </tr>\n",
       "    <tr>\n",
       "      <th>1574014</th>\n",
       "      <td>Madagascar</td>\n",
       "      <td>MDG</td>\n",
       "      <td>Mobile cellular subscriptions (per 100 people)</td>\n",
       "      <td>IT.CEL.SETS.P2</td>\n",
       "      <td>1986</td>\n",
       "      <td>0.000000</td>\n",
       "    </tr>\n",
       "    <tr>\n",
       "      <th>1662762</th>\n",
       "      <td>Madagascar</td>\n",
       "      <td>MDG</td>\n",
       "      <td>Mobile cellular subscriptions (per 100 people)</td>\n",
       "      <td>IT.CEL.SETS.P2</td>\n",
       "      <td>1987</td>\n",
       "      <td>0.000000</td>\n",
       "    </tr>\n",
       "    <tr>\n",
       "      <th>1752066</th>\n",
       "      <td>Madagascar</td>\n",
       "      <td>MDG</td>\n",
       "      <td>Mobile cellular subscriptions (per 100 people)</td>\n",
       "      <td>IT.CEL.SETS.P2</td>\n",
       "      <td>1988</td>\n",
       "      <td>0.000000</td>\n",
       "    </tr>\n",
       "    <tr>\n",
       "      <th>1843443</th>\n",
       "      <td>Madagascar</td>\n",
       "      <td>MDG</td>\n",
       "      <td>Mobile cellular subscriptions (per 100 people)</td>\n",
       "      <td>IT.CEL.SETS.P2</td>\n",
       "      <td>1989</td>\n",
       "      <td>0.000000</td>\n",
       "    </tr>\n",
       "    <tr>\n",
       "      <th>1950873</th>\n",
       "      <td>Madagascar</td>\n",
       "      <td>MDG</td>\n",
       "      <td>Mobile cellular subscriptions (per 100 people)</td>\n",
       "      <td>IT.CEL.SETS.P2</td>\n",
       "      <td>1990</td>\n",
       "      <td>0.000000</td>\n",
       "    </tr>\n",
       "    <tr>\n",
       "      <th>2067527</th>\n",
       "      <td>Madagascar</td>\n",
       "      <td>MDG</td>\n",
       "      <td>Mobile cellular subscriptions (per 100 people)</td>\n",
       "      <td>IT.CEL.SETS.P2</td>\n",
       "      <td>1991</td>\n",
       "      <td>0.000000</td>\n",
       "    </tr>\n",
       "    <tr>\n",
       "      <th>2186841</th>\n",
       "      <td>Madagascar</td>\n",
       "      <td>MDG</td>\n",
       "      <td>Mobile cellular subscriptions (per 100 people)</td>\n",
       "      <td>IT.CEL.SETS.P2</td>\n",
       "      <td>1992</td>\n",
       "      <td>0.000000</td>\n",
       "    </tr>\n",
       "    <tr>\n",
       "      <th>2310223</th>\n",
       "      <td>Madagascar</td>\n",
       "      <td>MDG</td>\n",
       "      <td>Mobile cellular subscriptions (per 100 people)</td>\n",
       "      <td>IT.CEL.SETS.P2</td>\n",
       "      <td>1993</td>\n",
       "      <td>0.000000</td>\n",
       "    </tr>\n",
       "    <tr>\n",
       "      <th>2435249</th>\n",
       "      <td>Madagascar</td>\n",
       "      <td>MDG</td>\n",
       "      <td>Mobile cellular subscriptions (per 100 people)</td>\n",
       "      <td>IT.CEL.SETS.P2</td>\n",
       "      <td>1994</td>\n",
       "      <td>0.002301</td>\n",
       "    </tr>\n",
       "    <tr>\n",
       "      <th>2566411</th>\n",
       "      <td>Madagascar</td>\n",
       "      <td>MDG</td>\n",
       "      <td>Mobile cellular subscriptions (per 100 people)</td>\n",
       "      <td>IT.CEL.SETS.P2</td>\n",
       "      <td>1995</td>\n",
       "      <td>0.009664</td>\n",
       "    </tr>\n",
       "    <tr>\n",
       "      <th>2701696</th>\n",
       "      <td>Madagascar</td>\n",
       "      <td>MDG</td>\n",
       "      <td>Mobile cellular subscriptions (per 100 people)</td>\n",
       "      <td>IT.CEL.SETS.P2</td>\n",
       "      <td>1996</td>\n",
       "      <td>0.016567</td>\n",
       "    </tr>\n",
       "  </tbody>\n",
       "</table>\n",
       "</div>"
      ],
      "text/plain": [
       "        CountryName CountryCode  \\\n",
       "14474    Madagascar         MDG   \n",
       "155913   Madagascar         MDG   \n",
       "336051   Madagascar         MDG   \n",
       "682417   Madagascar         MDG   \n",
       "755373   Madagascar         MDG   \n",
       "830111   Madagascar         MDG   \n",
       "905488   Madagascar         MDG   \n",
       "981351   Madagascar         MDG   \n",
       "1060554  Madagascar         MDG   \n",
       "1143739  Madagascar         MDG   \n",
       "1228485  Madagascar         MDG   \n",
       "1313875  Madagascar         MDG   \n",
       "1399517  Madagascar         MDG   \n",
       "1486178  Madagascar         MDG   \n",
       "1574014  Madagascar         MDG   \n",
       "1662762  Madagascar         MDG   \n",
       "1752066  Madagascar         MDG   \n",
       "1843443  Madagascar         MDG   \n",
       "1950873  Madagascar         MDG   \n",
       "2067527  Madagascar         MDG   \n",
       "2186841  Madagascar         MDG   \n",
       "2310223  Madagascar         MDG   \n",
       "2435249  Madagascar         MDG   \n",
       "2566411  Madagascar         MDG   \n",
       "2701696  Madagascar         MDG   \n",
       "\n",
       "                                          IndicatorName   IndicatorCode  Year  \\\n",
       "14474    Mobile cellular subscriptions (per 100 people)  IT.CEL.SETS.P2  1960   \n",
       "155913   Mobile cellular subscriptions (per 100 people)  IT.CEL.SETS.P2  1965   \n",
       "336051   Mobile cellular subscriptions (per 100 people)  IT.CEL.SETS.P2  1970   \n",
       "682417   Mobile cellular subscriptions (per 100 people)  IT.CEL.SETS.P2  1975   \n",
       "755373   Mobile cellular subscriptions (per 100 people)  IT.CEL.SETS.P2  1976   \n",
       "830111   Mobile cellular subscriptions (per 100 people)  IT.CEL.SETS.P2  1977   \n",
       "905488   Mobile cellular subscriptions (per 100 people)  IT.CEL.SETS.P2  1978   \n",
       "981351   Mobile cellular subscriptions (per 100 people)  IT.CEL.SETS.P2  1979   \n",
       "1060554  Mobile cellular subscriptions (per 100 people)  IT.CEL.SETS.P2  1980   \n",
       "1143739  Mobile cellular subscriptions (per 100 people)  IT.CEL.SETS.P2  1981   \n",
       "1228485  Mobile cellular subscriptions (per 100 people)  IT.CEL.SETS.P2  1982   \n",
       "1313875  Mobile cellular subscriptions (per 100 people)  IT.CEL.SETS.P2  1983   \n",
       "1399517  Mobile cellular subscriptions (per 100 people)  IT.CEL.SETS.P2  1984   \n",
       "1486178  Mobile cellular subscriptions (per 100 people)  IT.CEL.SETS.P2  1985   \n",
       "1574014  Mobile cellular subscriptions (per 100 people)  IT.CEL.SETS.P2  1986   \n",
       "1662762  Mobile cellular subscriptions (per 100 people)  IT.CEL.SETS.P2  1987   \n",
       "1752066  Mobile cellular subscriptions (per 100 people)  IT.CEL.SETS.P2  1988   \n",
       "1843443  Mobile cellular subscriptions (per 100 people)  IT.CEL.SETS.P2  1989   \n",
       "1950873  Mobile cellular subscriptions (per 100 people)  IT.CEL.SETS.P2  1990   \n",
       "2067527  Mobile cellular subscriptions (per 100 people)  IT.CEL.SETS.P2  1991   \n",
       "2186841  Mobile cellular subscriptions (per 100 people)  IT.CEL.SETS.P2  1992   \n",
       "2310223  Mobile cellular subscriptions (per 100 people)  IT.CEL.SETS.P2  1993   \n",
       "2435249  Mobile cellular subscriptions (per 100 people)  IT.CEL.SETS.P2  1994   \n",
       "2566411  Mobile cellular subscriptions (per 100 people)  IT.CEL.SETS.P2  1995   \n",
       "2701696  Mobile cellular subscriptions (per 100 people)  IT.CEL.SETS.P2  1996   \n",
       "\n",
       "            Value  \n",
       "14474    0.000000  \n",
       "155913   0.000000  \n",
       "336051   0.000000  \n",
       "682417   0.000000  \n",
       "755373   0.000000  \n",
       "830111   0.000000  \n",
       "905488   0.000000  \n",
       "981351   0.000000  \n",
       "1060554  0.000000  \n",
       "1143739  0.000000  \n",
       "1228485  0.000000  \n",
       "1313875  0.000000  \n",
       "1399517  0.000000  \n",
       "1486178  0.000000  \n",
       "1574014  0.000000  \n",
       "1662762  0.000000  \n",
       "1752066  0.000000  \n",
       "1843443  0.000000  \n",
       "1950873  0.000000  \n",
       "2067527  0.000000  \n",
       "2186841  0.000000  \n",
       "2310223  0.000000  \n",
       "2435249  0.002301  \n",
       "2566411  0.009664  \n",
       "2701696  0.016567  "
      ]
     },
     "execution_count": 52,
     "metadata": {},
     "output_type": "execute_result"
    }
   ],
   "source": [
    "data_mobile_mdg.head(25)"
   ]
  },
  {
   "cell_type": "markdown",
   "metadata": {},
   "source": [
    "I can see that : \n",
    "* The data_mobile_mdg has missing datas between 1960 and 1965\n",
    "* Starting from 1994, Mobile cellular subscriptions value becomes nonzero"
   ]
  },
  {
   "cell_type": "code",
   "execution_count": 53,
   "metadata": {},
   "outputs": [
    {
     "data": {
      "text/html": [
       "<div>\n",
       "<style scoped>\n",
       "    .dataframe tbody tr th:only-of-type {\n",
       "        vertical-align: middle;\n",
       "    }\n",
       "\n",
       "    .dataframe tbody tr th {\n",
       "        vertical-align: top;\n",
       "    }\n",
       "\n",
       "    .dataframe thead th {\n",
       "        text-align: right;\n",
       "    }\n",
       "</style>\n",
       "<table border=\"1\" class=\"dataframe\">\n",
       "  <thead>\n",
       "    <tr style=\"text-align: right;\">\n",
       "      <th></th>\n",
       "      <th>CountryName</th>\n",
       "      <th>CountryCode</th>\n",
       "      <th>IndicatorName</th>\n",
       "      <th>IndicatorCode</th>\n",
       "      <th>Year</th>\n",
       "      <th>Value</th>\n",
       "    </tr>\n",
       "  </thead>\n",
       "  <tbody>\n",
       "    <tr>\n",
       "      <th>14394</th>\n",
       "      <td>Madagascar</td>\n",
       "      <td>MDG</td>\n",
       "      <td>GDP per capita (constant 2005 US$)</td>\n",
       "      <td>NY.GDP.PCAP.KD</td>\n",
       "      <td>1960</td>\n",
       "      <td>475.498701</td>\n",
       "    </tr>\n",
       "    <tr>\n",
       "      <th>39704</th>\n",
       "      <td>Madagascar</td>\n",
       "      <td>MDG</td>\n",
       "      <td>GDP per capita (constant 2005 US$)</td>\n",
       "      <td>NY.GDP.PCAP.KD</td>\n",
       "      <td>1961</td>\n",
       "      <td>473.697918</td>\n",
       "    </tr>\n",
       "    <tr>\n",
       "      <th>67411</th>\n",
       "      <td>Madagascar</td>\n",
       "      <td>MDG</td>\n",
       "      <td>GDP per capita (constant 2005 US$)</td>\n",
       "      <td>NY.GDP.PCAP.KD</td>\n",
       "      <td>1962</td>\n",
       "      <td>472.775693</td>\n",
       "    </tr>\n",
       "    <tr>\n",
       "      <th>95974</th>\n",
       "      <td>Madagascar</td>\n",
       "      <td>MDG</td>\n",
       "      <td>GDP per capita (constant 2005 US$)</td>\n",
       "      <td>NY.GDP.PCAP.KD</td>\n",
       "      <td>1963</td>\n",
       "      <td>456.949256</td>\n",
       "    </tr>\n",
       "    <tr>\n",
       "      <th>124822</th>\n",
       "      <td>Madagascar</td>\n",
       "      <td>MDG</td>\n",
       "      <td>GDP per capita (constant 2005 US$)</td>\n",
       "      <td>NY.GDP.PCAP.KD</td>\n",
       "      <td>1964</td>\n",
       "      <td>463.333847</td>\n",
       "    </tr>\n",
       "  </tbody>\n",
       "</table>\n",
       "</div>"
      ],
      "text/plain": [
       "       CountryName CountryCode                       IndicatorName  \\\n",
       "14394   Madagascar         MDG  GDP per capita (constant 2005 US$)   \n",
       "39704   Madagascar         MDG  GDP per capita (constant 2005 US$)   \n",
       "67411   Madagascar         MDG  GDP per capita (constant 2005 US$)   \n",
       "95974   Madagascar         MDG  GDP per capita (constant 2005 US$)   \n",
       "124822  Madagascar         MDG  GDP per capita (constant 2005 US$)   \n",
       "\n",
       "         IndicatorCode  Year       Value  \n",
       "14394   NY.GDP.PCAP.KD  1960  475.498701  \n",
       "39704   NY.GDP.PCAP.KD  1961  473.697918  \n",
       "67411   NY.GDP.PCAP.KD  1962  472.775693  \n",
       "95974   NY.GDP.PCAP.KD  1963  456.949256  \n",
       "124822  NY.GDP.PCAP.KD  1964  463.333847  "
      ]
     },
     "execution_count": 53,
     "metadata": {},
     "output_type": "execute_result"
    }
   ],
   "source": [
    "data_GDP_mdg.head()"
   ]
  },
  {
   "cell_type": "markdown",
   "metadata": {},
   "source": [
    "Let's filter the data starting from 1994"
   ]
  },
  {
   "cell_type": "code",
   "execution_count": 54,
   "metadata": {},
   "outputs": [],
   "source": [
    "data_mobile_mdg_from1994 = data_mobile_mdg[data_mobile_mdg['Year']>1993]\n",
    "data_GDP_mdg_from1994 = data_GDP_mdg[data_GDP_mdg['Year']>1993]"
   ]
  },
  {
   "cell_type": "code",
   "execution_count": 55,
   "metadata": {},
   "outputs": [
    {
     "name": "stdout",
     "output_type": "stream",
     "text": [
      "21\n",
      "21\n"
     ]
    }
   ],
   "source": [
    "print(len(data_mobile_mdg_from1994))\n",
    "print(len(data_GDP_mdg_from1994))"
   ]
  },
  {
   "cell_type": "markdown",
   "metadata": {},
   "source": [
    "Lengths are now the equals, let's plot it."
   ]
  },
  {
   "cell_type": "code",
   "execution_count": 56,
   "metadata": {
    "scrolled": true
   },
   "outputs": [
    {
     "data": {
      "image/png": "[encoded data removed]",
      "text/plain": [
       "<Figure size 720x360 with 1 Axes>"
      ]
     },
     "metadata": {},
     "output_type": "display_data"
    }
   ],
   "source": [
    "%matplotlib inline\n",
    "import matplotlib.pyplot as plt\n",
    "\n",
    "fig, axis = plt.subplots(figsize=(10,5))\n",
    "\n",
    "axis.yaxis.grid(True)\n",
    "axis.set_title('Cellular subscriptions vs. GDP (per capita) in Madagascar (1994-2015)')\n",
    "axis.set_xlabel(data_mobile_mdg_from1994['IndicatorName'].iloc[0])\n",
    "axis.set_ylabel(data_GDP_mdg_from1994['IndicatorName'].iloc[0])\n",
    "\n",
    "axis.scatter(data_mobile_mdg_from1994['Value'], data_GDP_mdg_from1994['Value'])\n",
    "plt.show()"
   ]
  },
  {
   "cell_type": "markdown",
   "metadata": {},
   "source": [
    "It doesn't look like there is a strong relationship between the GDP and the cellular subscriptions in Madagascar. Let's confirm this by looking at the correlation."
   ]
  },
  {
   "cell_type": "code",
   "execution_count": 57,
   "metadata": {},
   "outputs": [
    {
     "data": {
      "text/plain": [
       "array([[ 1.        , -0.04562643],\n",
       "       [-0.04562643,  1.        ]])"
      ]
     },
     "execution_count": 57,
     "metadata": {},
     "output_type": "execute_result"
    }
   ],
   "source": [
    "np.corrcoef(data_GDP_mdg_from1994['Value'],data_mobile_mdg_from1994['Value'])"
   ]
  },
  {
   "cell_type": "markdown",
   "metadata": {},
   "source": [
    "Conclusion :\n",
    "* A correlation of -0.045 is preatty weak \n",
    "* I can conclude that there is no correlation between the GDP and the cellular subscriptions in Madagascar (1994-2015).\n",
    "\n",
    "\n",
    "### 3) Let's see if there is a correlation between GDP per capita and the Mobile subscriptions in the developping countries (same method :  scatter plots & statistical correlation) ###"
   ]
  },
  {
   "cell_type": "code",
   "execution_count": 58,
   "metadata": {},
   "outputs": [],
   "source": [
    "# select GDP per capita in all developing countries\n",
    "data_GDP_EAP = data[filter_indicator_EAP & filter_GDP]\n",
    "data_GDP_ECA = data[filter_indicator_ECA & filter_GDP]\n",
    "data_GDP_LAC = data[filter_indicator_LAC & filter_GDP]\n",
    "data_GDP_MNA = data[filter_indicator_MNA & filter_GDP]\n",
    "data_GDP_SSA = data[filter_indicator_SSA & filter_GDP]"
   ]
  },
  {
   "cell_type": "code",
   "execution_count": 59,
   "metadata": {},
   "outputs": [
    {
     "name": "stdout",
     "output_type": "stream",
     "text": [
      "55\n",
      "28\n",
      "55\n",
      "50\n",
      "55\n"
     ]
    }
   ],
   "source": [
    "print(len(data_GDP_EAP))\n",
    "print(len(data_GDP_ECA))\n",
    "print(len(data_GDP_LAC))\n",
    "print(len(data_GDP_MNA))\n",
    "print(len(data_GDP_SSA))"
   ]
  },
  {
   "cell_type": "markdown",
   "metadata": {},
   "source": [
    "Same problem as before, the lenghts are different. Let's make filters starting from 1993"
   ]
  },
  {
   "cell_type": "code",
   "execution_count": 60,
   "metadata": {},
   "outputs": [],
   "source": [
    "data_GDP_EAP_from1994 = data_GDP_EAP[data_GDP_EAP['Year']>1993]\n",
    "data_GDP_ECA_from1994 = data_GDP_ECA[data_GDP_ECA['Year']>1993]\n",
    "data_GDP_LAC_from1994 = data_GDP_LAC[data_GDP_LAC['Year']>1993]\n",
    "data_GDP_MNA_from1994 = data_GDP_MNA[data_GDP_MNA['Year']>1993]\n",
    "data_GDP_SSA_from1994 = data_GDP_SSA[data_GDP_SSA['Year']>1993]\n",
    "\n",
    "data_mobile_EAP_from1994 = data_mobile_EAP[data_mobile_EAP['Year']>1993]\n",
    "data_mobile_ECA_from1994 = data_mobile_ECA[data_mobile_ECA['Year']>1993]\n",
    "data_mobile_LAC_from1994 = data_mobile_LAC[data_mobile_LAC['Year']>1993]\n",
    "data_mobile_MNA_from1994 = data_mobile_MNA[data_mobile_MNA['Year']>1993]\n",
    "data_mobile_SSA_from1994 = data_mobile_SSA[data_mobile_SSA['Year']>1993]"
   ]
  },
  {
   "cell_type": "code",
   "execution_count": 61,
   "metadata": {},
   "outputs": [
    {
     "name": "stdout",
     "output_type": "stream",
     "text": [
      "21\n",
      "21\n",
      "21\n",
      "21\n",
      "21\n",
      "21\n",
      "21\n",
      "21\n",
      "21\n",
      "21\n"
     ]
    }
   ],
   "source": [
    "print(len(data_GDP_EAP_from1994))\n",
    "print(len(data_GDP_ECA_from1994))\n",
    "print(len(data_GDP_LAC_from1994))\n",
    "print(len(data_GDP_MNA_from1994))\n",
    "print(len(data_GDP_SSA_from1994))\n",
    "\n",
    "print(len(data_mobile_EAP_from1994))\n",
    "print(len(data_mobile_ECA_from1994))\n",
    "print(len(data_mobile_LAC_from1994))\n",
    "print(len(data_mobile_MNA_from1994))\n",
    "print(len(data_mobile_SSA_from1994))"
   ]
  },
  {
   "cell_type": "markdown",
   "metadata": {},
   "source": [
    "Lengths are equals now. Let's plot this !"
   ]
  },
  {
   "cell_type": "code",
   "execution_count": 97,
   "metadata": {},
   "outputs": [
    {
     "data": {
      "image/png": "[encoded data removed]",
      "text/plain": [
       "<Figure size 1080x720 with 1 Axes>"
      ]
     },
     "metadata": {},
     "output_type": "display_data"
    }
   ],
   "source": [
    "%matplotlib inline\n",
    "import matplotlib.pyplot as plt\n",
    "\n",
    "fig, axis = plt.subplots(figsize=(15,10))\n",
    "\n",
    "axis.set_title('Cellular subscriptions vs. GDP (per capita) in all developing countries (1994 - 2015)')\n",
    "axis.set_xlabel(data_mobile_mdg_from1994['IndicatorName'].iloc[0])\n",
    "axis.set_ylabel(data_GDP_mdg_from1994['IndicatorName'].iloc[0])\n",
    "\n",
    "axis.scatter(data_mobile_mdg_from1994['Value'], data_GDP_mdg_from1994['Value'])\n",
    "axis.scatter(data_mobile_EAP_from1994['Value'], data_GDP_EAP_from1994['Value'])\n",
    "axis.scatter(data_mobile_ECA_from1994['Value'], data_GDP_ECA_from1994['Value'])\n",
    "axis.scatter(data_mobile_LAC_from1994['Value'], data_GDP_LAC_from1994['Value'])\n",
    "axis.scatter(data_mobile_MNA_from1994['Value'], data_GDP_MNA_from1994['Value'])\n",
    "axis.scatter(data_mobile_SSA_from1994['Value'], data_GDP_SSA_from1994['Value'])\n",
    "\n",
    "legend = plt.legend([\"Madagascar\",\"East Asia & Pacific (developing only)\",\n",
    "            \"Europe & Central Asia (developing only)\",\"Latin America & Caribbean (developing only)\",\n",
    "            \"Middle East & North Africa (developing only)\",\"Sub-Saharan Africa (developing only)\"],\n",
    "            shadow=True,\n",
    "            prop={'weight':'roman','size':'medium'})\n",
    "\n",
    "frame = legend.get_frame()\n",
    "frame.set_facecolor('.95')\n",
    "plt.show()"
   ]
  },
  {
   "cell_type": "markdown",
   "metadata": {},
   "source": [
    "This is surprising. It looks like there is a strong correlation between GDP per capita and Mobile Cellular subscriptions in all developing country (even in Sub Saharan area). Let's confirm this by looking at the correlation."
   ]
  },
  {
   "cell_type": "code",
   "execution_count": 132,
   "metadata": {},
   "outputs": [
    {
     "name": "stdout",
     "output_type": "stream",
     "text": [
      "[[ 1.         -0.04562643]\n",
      " [-0.04562643  1.        ]] \n",
      " --> Madagascar: No correlation \n",
      "\n",
      "[[1.         0.99746121]\n",
      " [0.99746121 1.        ]] \n",
      " --> East Asia & Pacific: correlation \n",
      "\n",
      "[[1.         0.98898902]\n",
      " [0.98898902 1.        ]] \n",
      " --> Europe & Central Asia: correlation\n",
      "\n",
      "[[1.         0.98876407]\n",
      " [0.98876407 1.        ]] \n",
      " --> Latin America & Caribbean: correlation\n",
      "\n",
      "[[1.         0.91496115]\n",
      " [0.91496115 1.        ]] \n",
      " --> Middle East & North Africa: correlation\n",
      "\n",
      "[[1.         0.95471165]\n",
      " [0.95471165 1.        ]] \n",
      " --> Sub-Saharan Africa: correlation\n",
      "\n"
     ]
    }
   ],
   "source": [
    "print(np.corrcoef(data_mobile_mdg_from1994['Value'],data_GDP_mdg_from1994['Value']),\n",
    "      \"\\n --> Madagascar: No correlation \\n\")\n",
    "print(np.corrcoef(data_mobile_EAP_from1994['Value'],data_GDP_EAP_from1994['Value']),\n",
    "      \"\\n --> East Asia & Pacific: correlation \\n\")\n",
    "print(np.corrcoef(data_mobile_ECA_from1994['Value'],data_GDP_ECA_from1994['Value']),\n",
    "      \"\\n --> Europe & Central Asia: correlation\\n\")\n",
    "print(np.corrcoef(data_mobile_LAC_from1994['Value'],data_GDP_LAC_from1994['Value']),\n",
    "      \"\\n --> Latin America & Caribbean: correlation\\n\")\n",
    "print(np.corrcoef(data_mobile_MNA_from1994['Value'],data_GDP_MNA_from1994['Value']),\n",
    "      \"\\n --> Middle East & North Africa: correlation\\n\")\n",
    "print(np.corrcoef(data_mobile_SSA_from1994['Value'],data_GDP_SSA_from1994['Value']),\n",
    "      \"\\n --> Sub-Saharan Africa: correlation\\n\")"
   ]
  },
  {
   "cell_type": "markdown",
   "metadata": {},
   "source": [
    "**How surprising is that ! **\n",
    "\n",
    "* Unlike Madagascar, there is a strong correlation between the mobile subscriptions and the GDP per capita in the developing world.\n",
    "* Even in the Sub-saharan Africa (the area where Madagascar belongs), there is a correlation of **0.954**, this is quite strong !!\n",
    "* Madagascar is an outlier among the developing world\n",
    "* Madagascar is an outlier among the sub-saharan zone"
   ]
  },
  {
   "cell_type": "markdown",
   "metadata": {},
   "source": [
    "### 4) And how about the correlation between GDP per capita and the Mobile subscriptions in the developped countries? (Same method :  scatter plots & statistical correlation) ###"
   ]
  },
  {
   "cell_type": "markdown",
   "metadata": {},
   "source": [
    "Again, let's pick 2 areas and 2 countries :\n",
    "\n",
    "* High income: OECD\n",
    "* High income: Non OECD\n",
    "* United Kingdom\n",
    "* France"
   ]
  },
  {
   "cell_type": "code",
   "execution_count": 98,
   "metadata": {},
   "outputs": [],
   "source": [
    "# select GDP per capita in high income countries (OECD & Non OECD)\n",
    "data_GDP_HI_OECD = data[filter_indicator_HI_OECD & filter_GDP]\n",
    "data_GDP_HI_NOECD = data[filter_indicator_HI_NOECD & filter_GDP]\n",
    "# select GDP per capita in UK & France\n",
    "data_GDP_UK = data[filter_indicator_UK & filter_GDP]\n",
    "data_GDP_FRA = data[filter_indicator_FRA & filter_GDP]\n",
    "\n",
    "# Filter the years starting from 1994 \n",
    "data_GDP_HI_OECD_from1994  = data_GDP_HI_OECD[data_GDP_HI_OECD['Year']>1993]\n",
    "data_GDP_HI_NOECD_from1994 = data_GDP_HI_NOECD[data_GDP_HI_NOECD['Year']>1993]\n",
    "data_GDP_UK_from1994  = data_GDP_UK[data_GDP_UK['Year']>1993]\n",
    "data_GDP_FRA_from1994 = data_GDP_FRA[data_GDP_FRA['Year']>1993]\n",
    "\n",
    "data_mobile_HI_OECD_from1994 = data_mobile_HI_OECD[data_mobile_HI_OECD['Year']>1993]\n",
    "data_mobile_HI_NOECD_from1994 = data_mobile_HI_NOECD[data_mobile_HI_NOECD['Year']>1993]\n",
    "data_mobile_UK_from1994 = data_mobile_UK[data_mobile_UK['Year']>1993]\n",
    "data_mobile_FRA_from1994 = data_mobile_FRA[data_mobile_FRA['Year']>1993]"
   ]
  },
  {
   "cell_type": "code",
   "execution_count": 100,
   "metadata": {},
   "outputs": [
    {
     "data": {
      "image/png": "[encoded data removed]",
      "text/plain": [
       "<Figure size 1080x720 with 1 Axes>"
      ]
     },
     "metadata": {},
     "output_type": "display_data"
    }
   ],
   "source": [
    "%matplotlib inline\n",
    "import matplotlib.pyplot as plt\n",
    "\n",
    "fig, axis = plt.subplots(figsize=(15,10))\n",
    "\n",
    "axis.set_title('Cellular subscriptions vs. GDP (per capita) in high income countries and Madagascar (1994 - 2015)')\n",
    "axis.set_xlabel(data_mobile_mdg_from1994['IndicatorName'].iloc[0])\n",
    "axis.set_ylabel(data_GDP_mdg_from1994['IndicatorName'].iloc[0])\n",
    "\n",
    "axis.scatter(data_mobile_mdg_from1994['Value'], data_GDP_mdg_from1994['Value'])\n",
    "axis.scatter(data_mobile_HI_NOECD_from1994['Value'], data_GDP_HI_NOECD_from1994['Value'])\n",
    "axis.scatter(data_mobile_HI_OECD_from1994['Value'], data_GDP_HI_OECD_from1994['Value'])\n",
    "axis.scatter(data_mobile_UK_from1994['Value'], data_GDP_UK_from1994['Value'])\n",
    "axis.scatter(data_mobile_FRA_from1994['Value'], data_GDP_FRA_from1994['Value'])\n",
    "\n",
    "legend = plt.legend([\"Madagascar\",\"High income (Non OECD)\",\"High income (OECD)\",\"United Kingdom\",\"France\"],\n",
    "           shadow=True,\n",
    "           prop={'weight':'roman','size':'large'})\n",
    "frame = legend.get_frame()\n",
    "frame.set_facecolor('.95')\n",
    "\n",
    "plt.show()"
   ]
  },
  {
   "cell_type": "markdown",
   "metadata": {},
   "source": [
    "Again, It looks like there is a strong correlation between GDP per capita and Mobile Cellular subscriptions in high income countries (OECD & Non OECD). Same in France & UK. Let's confirm this by looking at the correlation."
   ]
  },
  {
   "cell_type": "code",
   "execution_count": 182,
   "metadata": {},
   "outputs": [
    {
     "name": "stdout",
     "output_type": "stream",
     "text": [
      "[[1.         0.98425226]\n",
      " [0.98425226 1.        ]] \n",
      " --> High income (OECD): correlation\n",
      "\n",
      "[[1.         0.98736057]\n",
      " [0.98736057 1.        ]] \n",
      " --> High income (Non OECD): correlation\n",
      "\n",
      "[[1.         0.97361538]\n",
      " [0.97361538 1.        ]] \n",
      " --> United Kingdom: correlation\n",
      "\n",
      "[[1.         0.98444385]\n",
      " [0.98444385 1.        ]] \n",
      " --> France: correlation\n",
      "\n"
     ]
    }
   ],
   "source": [
    "print(np.corrcoef(data_mobile_HI_OECD_from1994['Value'],data_GDP_HI_OECD_from1994['Value']),\n",
    "      \"\\n --> High income (OECD): correlation\\n\")\n",
    "print(np.corrcoef(data_mobile_HI_NOECD_from1994['Value'],data_GDP_HI_NOECD_from1994['Value']),\n",
    "      \"\\n --> High income (Non OECD): correlation\\n\")\n",
    "print(np.corrcoef(data_mobile_UK_from1994['Value'],data_GDP_UK_from1994['Value']),\n",
    "      \"\\n --> United Kingdom: correlation\\n\")\n",
    "print(np.corrcoef(data_mobile_FRA_from1994['Value'],data_GDP_FRA_from1994['Value']),\n",
    "      \"\\n --> France: correlation\\n\")"
   ]
  },
  {
   "cell_type": "markdown",
   "metadata": {},
   "source": [
    "There is a quite strong correlation between the mobile subscriptions and the GDP in high income countries (From OECD and non OECD) including United Kingdom  and France !"
   ]
  },
  {
   "cell_type": "markdown",
   "metadata": {},
   "source": [
    "<h1> Conclusion : </h1>\n",
    "\n",
    "* There is a correlation between the mobile subscriptions and the GDP in all developing countries. \n",
    "* There is a correlation between the mobile subscriptions and the GDP in high income countries (From OECD and non OECD) + France & UK.\n",
    "* There is no correlation between the mobile subscriptions and the GDP in Madagascar.\n",
    "* Madagascar is an outlier in the developing world (even among the subsaharian zone) where it belongs !!"
   ]
  },
  {
   "cell_type": "markdown",
   "metadata": {},
   "source": [
    "Source : https://data.worldbank.org/indicator "
   ]
  }
 ],
 "metadata": {
  "kernelspec": {
   "display_name": "Python 3",
   "language": "python",
   "name": "python3"
  },
  "language_info": {
   "codemirror_mode": {
    "name": "ipython",
    "version": 3
   },
   "file_extension": ".py",
   "mimetype": "text/x-python",
   "name": "python",
   "nbconvert_exporter": "python",
   "pygments_lexer": "ipython3",
   "version": "3.6.5"
  }
 },
 "nbformat": 4,
 "nbformat_minor": 2
}
